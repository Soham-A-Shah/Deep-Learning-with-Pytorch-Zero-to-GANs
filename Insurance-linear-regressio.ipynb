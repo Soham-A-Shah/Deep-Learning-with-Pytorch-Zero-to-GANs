{
 "cells": [
  {
   "cell_type": "markdown",
   "metadata": {
    "_cell_guid": "b1076dfc-b9ad-4769-8c92-a6c4dae69d19",
    "_uuid": "8f2839f25d086af736a60e9eeb907d3b93b6e0e5"
   },
   "source": [
    "# Insurance cost prediction using linear regression\n",
    "\n",
    "In this assignment we're going to use information like a person's age, sex, BMI, no. of children and smoking habit to predict the price of yearly medical bills. This kind of model is useful for insurance companies to determine the yearly insurance premium for a person. The dataset for this problem is taken from: https://www.kaggle.com/mirichoi0218/insurance\n",
    "\n",
    "\n",
    "We will create a model with the following steps:\n",
    "1. Download and explore the dataset\n",
    "2. Prepare the dataset for training\n",
    "3. Create a linear regression model\n",
    "4. Train the model to fit the data\n",
    "5. Make predictions using the trained model\n",
    "\n",
    "\n",
    "This assignment builds upon the concepts from the first 2 lectures. It will help to review these Jupyter notebooks:\n",
    "- PyTorch basics: https://jovian.ml/aakashns/01-pytorch-basics\n",
    "- Linear Regression: https://jovian.ml/aakashns/02-linear-regression\n",
    "- Logistic Regression: https://jovian.ml/aakashns/03-logistic-regression\n",
    "- Linear regression (minimal): https://jovian.ml/aakashns/housing-linear-minimal\n",
    "- Logistic regression (minimal): https://jovian.ml/aakashns/mnist-logistic-minimal\n",
    "\n",
    "As you go through this notebook, you will find a **???** in certain places. Your job is to replace the **???** with appropriate code or values, to ensure that the notebook runs properly end-to-end . In some cases, you'll be required to choose some hyperparameters (learning rate, batch size etc.). Try to experiment with the hypeparameters to get the lowest loss.\n"
   ]
  },
  {
   "cell_type": "code",
   "execution_count": 1,
   "metadata": {},
   "outputs": [
    {
     "name": "stdout",
     "output_type": "stream",
     "text": [
      "\u001b[33mWARNING: You are using pip version 20.1; however, version 20.1.1 is available.\r\n",
      "You should consider upgrading via the '/opt/conda/bin/python3.7 -m pip install --upgrade pip' command.\u001b[0m\r\n"
     ]
    }
   ],
   "source": [
    "# Uncomment and run the commands below if imports fail\n",
    "# !conda install numpy pytorch torchvision cpuonly -c pytorch -y\n",
    "# !pip install matplotlib --upgrade --quiet\n",
    "!pip install jovian --upgrade --quiet"
   ]
  },
  {
   "cell_type": "code",
   "execution_count": 2,
   "metadata": {},
   "outputs": [
    {
     "data": {
      "application/javascript": [
       "if (window.IPython && IPython.notebook.kernel) IPython.notebook.kernel.execute('jovian.utils.jupyter.get_notebook_name_saved = lambda: \"' + IPython.notebook.notebook_name + '\"')"
      ],
      "text/plain": [
       "<IPython.core.display.Javascript object>"
      ]
     },
     "metadata": {},
     "output_type": "display_data"
    }
   ],
   "source": [
    "import torch\n",
    "import jovian\n",
    "import torchvision\n",
    "import torch.nn as nn\n",
    "import pandas as pd\n",
    "import matplotlib.pyplot as plt\n",
    "import torch.nn.functional as F\n",
    "from torchvision.datasets.utils import download_url\n",
    "from torch.utils.data import DataLoader, TensorDataset, random_split"
   ]
  },
  {
   "cell_type": "code",
   "execution_count": 3,
   "metadata": {},
   "outputs": [],
   "source": [
    "project_name='02-insurance-linear-regression' # will be used by jovian.commit"
   ]
  },
  {
   "cell_type": "markdown",
   "metadata": {},
   "source": [
    "## Step 1: Download and explore the data\n",
    "\n",
    "Let us begin by downloading the data. We'll use the `download_url` function from PyTorch to get the data as a CSV (comma-separated values) file. "
   ]
  },
  {
   "cell_type": "code",
   "execution_count": 4,
   "metadata": {
    "_cell_guid": "79c7e3d0-c299-4dcb-8224-4455121ee9b0",
    "_uuid": "d629ff2d2480ee46fbb7e2d37f6b5fab8052498a"
   },
   "outputs": [
    {
     "name": "stdout",
     "output_type": "stream",
     "text": [
      "Downloading https://hub.jovian.ml/wp-content/uploads/2020/05/insurance.csv to ./insurance.csv\n"
     ]
    },
    {
     "data": {
      "application/vnd.jupyter.widget-view+json": {
       "model_id": "65d149f9ac1943d591b0c705a8829ef0",
       "version_major": 2,
       "version_minor": 0
      },
      "text/plain": [
       "HBox(children=(FloatProgress(value=1.0, bar_style='info', max=1.0), HTML(value='')))"
      ]
     },
     "metadata": {},
     "output_type": "display_data"
    }
   ],
   "source": [
    "DATASET_URL = \"https://hub.jovian.ml/wp-content/uploads/2020/05/insurance.csv\"\n",
    "DATA_FILENAME = \"insurance.csv\"\n",
    "download_url(DATASET_URL, '.')"
   ]
  },
  {
   "cell_type": "markdown",
   "metadata": {},
   "source": [
    "To load the dataset into memory, we'll use the `read_csv` function from the `pandas` library. The data will be loaded as a Pandas dataframe. See this short tutorial to learn more: https://data36.com/pandas-tutorial-1-basics-reading-data-files-dataframes-data-selection/"
   ]
  },
  {
   "cell_type": "code",
   "execution_count": 5,
   "metadata": {},
   "outputs": [
    {
     "data": {
      "text/html": [
       "<div>\n",
       "<style scoped>\n",
       "    .dataframe tbody tr th:only-of-type {\n",
       "        vertical-align: middle;\n",
       "    }\n",
       "\n",
       "    .dataframe tbody tr th {\n",
       "        vertical-align: top;\n",
       "    }\n",
       "\n",
       "    .dataframe thead th {\n",
       "        text-align: right;\n",
       "    }\n",
       "</style>\n",
       "<table border=\"1\" class=\"dataframe\">\n",
       "  <thead>\n",
       "    <tr style=\"text-align: right;\">\n",
       "      <th></th>\n",
       "      <th>age</th>\n",
       "      <th>sex</th>\n",
       "      <th>bmi</th>\n",
       "      <th>children</th>\n",
       "      <th>smoker</th>\n",
       "      <th>region</th>\n",
       "      <th>charges</th>\n",
       "    </tr>\n",
       "  </thead>\n",
       "  <tbody>\n",
       "    <tr>\n",
       "      <th>0</th>\n",
       "      <td>19</td>\n",
       "      <td>female</td>\n",
       "      <td>27.900</td>\n",
       "      <td>0</td>\n",
       "      <td>yes</td>\n",
       "      <td>southwest</td>\n",
       "      <td>16884.92400</td>\n",
       "    </tr>\n",
       "    <tr>\n",
       "      <th>1</th>\n",
       "      <td>18</td>\n",
       "      <td>male</td>\n",
       "      <td>33.770</td>\n",
       "      <td>1</td>\n",
       "      <td>no</td>\n",
       "      <td>southeast</td>\n",
       "      <td>1725.55230</td>\n",
       "    </tr>\n",
       "    <tr>\n",
       "      <th>2</th>\n",
       "      <td>28</td>\n",
       "      <td>male</td>\n",
       "      <td>33.000</td>\n",
       "      <td>3</td>\n",
       "      <td>no</td>\n",
       "      <td>southeast</td>\n",
       "      <td>4449.46200</td>\n",
       "    </tr>\n",
       "    <tr>\n",
       "      <th>3</th>\n",
       "      <td>33</td>\n",
       "      <td>male</td>\n",
       "      <td>22.705</td>\n",
       "      <td>0</td>\n",
       "      <td>no</td>\n",
       "      <td>northwest</td>\n",
       "      <td>21984.47061</td>\n",
       "    </tr>\n",
       "    <tr>\n",
       "      <th>4</th>\n",
       "      <td>32</td>\n",
       "      <td>male</td>\n",
       "      <td>28.880</td>\n",
       "      <td>0</td>\n",
       "      <td>no</td>\n",
       "      <td>northwest</td>\n",
       "      <td>3866.85520</td>\n",
       "    </tr>\n",
       "  </tbody>\n",
       "</table>\n",
       "</div>"
      ],
      "text/plain": [
       "   age     sex     bmi  children smoker     region      charges\n",
       "0   19  female  27.900         0    yes  southwest  16884.92400\n",
       "1   18    male  33.770         1     no  southeast   1725.55230\n",
       "2   28    male  33.000         3     no  southeast   4449.46200\n",
       "3   33    male  22.705         0     no  northwest  21984.47061\n",
       "4   32    male  28.880         0     no  northwest   3866.85520"
      ]
     },
     "execution_count": 5,
     "metadata": {},
     "output_type": "execute_result"
    }
   ],
   "source": [
    "dataframe_raw = pd.read_csv(DATA_FILENAME)\n",
    "dataframe_raw.head()"
   ]
  },
  {
   "cell_type": "markdown",
   "metadata": {},
   "source": [
    "We're going to do a slight customization of the data, so that you every participant receives a slightly different version of the dataset. Fill in your name below as a string (enter at least 5 characters)"
   ]
  },
  {
   "cell_type": "code",
   "execution_count": 6,
   "metadata": {},
   "outputs": [],
   "source": [
    "your_name = 'SS141299' # at least 5 characters"
   ]
  },
  {
   "cell_type": "markdown",
   "metadata": {},
   "source": [
    "The `customize_dataset` function will customize the dataset slightly using your name as a source of random numbers."
   ]
  },
  {
   "cell_type": "code",
   "execution_count": 7,
   "metadata": {},
   "outputs": [],
   "source": [
    "def customize_dataset(dataframe_raw, rand_str):\n",
    "    dataframe = dataframe_raw.copy(deep=True)\n",
    "    # drop some rows\n",
    "    dataframe = dataframe.sample(int(0.95*len(dataframe)), random_state=int(ord(rand_str[0])))\n",
    "    # scale input\n",
    "    dataframe.bmi = dataframe.bmi * ord(rand_str[1])/100.\n",
    "    # scale target\n",
    "    dataframe.charges = dataframe.charges * ord(rand_str[2])/100.\n",
    "    # drop column\n",
    "    if ord(rand_str[3]) % 2 == 1:\n",
    "        dataframe = dataframe.drop(['region'], axis=1)\n",
    "    return dataframe"
   ]
  },
  {
   "cell_type": "code",
   "execution_count": 8,
   "metadata": {},
   "outputs": [
    {
     "data": {
      "text/html": [
       "<div>\n",
       "<style scoped>\n",
       "    .dataframe tbody tr th:only-of-type {\n",
       "        vertical-align: middle;\n",
       "    }\n",
       "\n",
       "    .dataframe tbody tr th {\n",
       "        vertical-align: top;\n",
       "    }\n",
       "\n",
       "    .dataframe thead th {\n",
       "        text-align: right;\n",
       "    }\n",
       "</style>\n",
       "<table border=\"1\" class=\"dataframe\">\n",
       "  <thead>\n",
       "    <tr style=\"text-align: right;\">\n",
       "      <th></th>\n",
       "      <th>age</th>\n",
       "      <th>sex</th>\n",
       "      <th>bmi</th>\n",
       "      <th>children</th>\n",
       "      <th>smoker</th>\n",
       "      <th>region</th>\n",
       "      <th>charges</th>\n",
       "    </tr>\n",
       "  </thead>\n",
       "  <tbody>\n",
       "    <tr>\n",
       "      <th>665</th>\n",
       "      <td>43</td>\n",
       "      <td>male</td>\n",
       "      <td>31.58980</td>\n",
       "      <td>2</td>\n",
       "      <td>yes</td>\n",
       "      <td>southeast</td>\n",
       "      <td>20854.610896</td>\n",
       "    </tr>\n",
       "    <tr>\n",
       "      <th>579</th>\n",
       "      <td>25</td>\n",
       "      <td>female</td>\n",
       "      <td>19.47595</td>\n",
       "      <td>0</td>\n",
       "      <td>no</td>\n",
       "      <td>northeast</td>\n",
       "      <td>1571.180761</td>\n",
       "    </tr>\n",
       "    <tr>\n",
       "      <th>84</th>\n",
       "      <td>37</td>\n",
       "      <td>female</td>\n",
       "      <td>28.88400</td>\n",
       "      <td>2</td>\n",
       "      <td>yes</td>\n",
       "      <td>southwest</td>\n",
       "      <td>19519.894310</td>\n",
       "    </tr>\n",
       "    <tr>\n",
       "      <th>244</th>\n",
       "      <td>63</td>\n",
       "      <td>female</td>\n",
       "      <td>23.02420</td>\n",
       "      <td>0</td>\n",
       "      <td>yes</td>\n",
       "      <td>northeast</td>\n",
       "      <td>14466.351144</td>\n",
       "    </tr>\n",
       "    <tr>\n",
       "      <th>1307</th>\n",
       "      <td>32</td>\n",
       "      <td>male</td>\n",
       "      <td>23.33960</td>\n",
       "      <td>4</td>\n",
       "      <td>yes</td>\n",
       "      <td>northwest</td>\n",
       "      <td>10521.514612</td>\n",
       "    </tr>\n",
       "  </tbody>\n",
       "</table>\n",
       "</div>"
      ],
      "text/plain": [
       "      age     sex       bmi  children smoker     region       charges\n",
       "665    43    male  31.58980         2    yes  southeast  20854.610896\n",
       "579    25  female  19.47595         0     no  northeast   1571.180761\n",
       "84     37  female  28.88400         2    yes  southwest  19519.894310\n",
       "244    63  female  23.02420         0    yes  northeast  14466.351144\n",
       "1307   32    male  23.33960         4    yes  northwest  10521.514612"
      ]
     },
     "execution_count": 8,
     "metadata": {},
     "output_type": "execute_result"
    }
   ],
   "source": [
    "dataframe = customize_dataset(dataframe_raw, your_name)\n",
    "dataframe.head()"
   ]
  },
  {
   "cell_type": "markdown",
   "metadata": {},
   "source": [
    "Let us answer some basic questions about the dataset. \n",
    "\n",
    "\n",
    "**Q: How many rows does the dataset have?**"
   ]
  },
  {
   "cell_type": "code",
   "execution_count": 9,
   "metadata": {},
   "outputs": [
    {
     "name": "stdout",
     "output_type": "stream",
     "text": [
      "1271\n"
     ]
    }
   ],
   "source": [
    "num_rows = dataframe.shape[0]\n",
    "print(num_rows)"
   ]
  },
  {
   "cell_type": "markdown",
   "metadata": {},
   "source": [
    "**Q: How many columns doe the dataset have**"
   ]
  },
  {
   "cell_type": "code",
   "execution_count": 10,
   "metadata": {},
   "outputs": [
    {
     "name": "stdout",
     "output_type": "stream",
     "text": [
      "7\n"
     ]
    }
   ],
   "source": [
    "num_cols = dataframe.shape[1]\n",
    "print(num_cols)"
   ]
  },
  {
   "cell_type": "markdown",
   "metadata": {},
   "source": [
    "**Q: What are the column titles of the input variables?**"
   ]
  },
  {
   "cell_type": "code",
   "execution_count": 11,
   "metadata": {},
   "outputs": [
    {
     "data": {
      "text/plain": [
       "['age', 'sex', 'bmi', 'children', 'smoker', 'region']"
      ]
     },
     "execution_count": 11,
     "metadata": {},
     "output_type": "execute_result"
    }
   ],
   "source": [
    "input_cols = list(dataframe.columns[:-1])\n",
    "input_cols"
   ]
  },
  {
   "cell_type": "markdown",
   "metadata": {},
   "source": [
    "**Q: Which of the input columns are non-numeric or categorial variables ?**\n",
    "\n",
    "Hint: `sex` is one of them. List the columns that are not numbers."
   ]
  },
  {
   "cell_type": "code",
   "execution_count": 13,
   "metadata": {},
   "outputs": [],
   "source": [
    "categorical_cols = list(dataframe.select_dtypes(include=['object']))"
   ]
  },
  {
   "cell_type": "markdown",
   "metadata": {},
   "source": [
    "**Q: What are the column titles of output/target variable(s)?**"
   ]
  },
  {
   "cell_type": "code",
   "execution_count": 14,
   "metadata": {},
   "outputs": [],
   "source": [
    "output_cols = ['charges']"
   ]
  },
  {
   "cell_type": "markdown",
   "metadata": {},
   "source": [
    "**Q: (Optional) What is the minimum, maximum and average value of the `charges` column? Can you show the distribution of values in a graph?**\n",
    "Use this data visualization cheatsheet for referece: https://jovian.ml/aakashns/dataviz-cheatsheet"
   ]
  },
  {
   "cell_type": "code",
   "execution_count": 16,
   "metadata": {},
   "outputs": [
    {
     "name": "stdout",
     "output_type": "stream",
     "text": [
      "Minimum Value: 549.718211\n",
      "Maximum Value: 31247.5097249\n",
      "Average Value: 6558.669986868289\n"
     ]
    },
    {
     "data": {
      "text/plain": [
       "<matplotlib.axes._subplots.AxesSubplot at 0x7ffb82afad10>"
      ]
     },
     "execution_count": 16,
     "metadata": {},
     "output_type": "execute_result"
    },
    {
     "data": {
      "image/png": "[encoded data removed]",
      "text/plain": [
       "<Figure size 432x288 with 1 Axes>"
      ]
     },
     "metadata": {
      "needs_background": "light"
     },
     "output_type": "display_data"
    }
   ],
   "source": [
    "# Write your answer here\n",
    "import seaborn as sns\n",
    "\n",
    "print(\"Minimum Value:\",dataframe['charges'].min())\n",
    "print(\"Maximum Value:\",dataframe['charges'].max())\n",
    "print(\"Average Value:\",dataframe['charges'].mean())\n",
    "\n",
    "\n",
    "plt.title(\"Distribution of Insuarance Charges Values\")\n",
    "sns.distplot(dataframe.charges)"
   ]
  },
  {
   "cell_type": "markdown",
   "metadata": {},
   "source": [
    "Remember to commit your notebook to Jovian after every step, so that you don't lose your work."
   ]
  },
  {
   "cell_type": "code",
   "execution_count": 17,
   "metadata": {},
   "outputs": [
    {
     "data": {
      "application/javascript": [
       "window.require && require([\"base/js/namespace\"],function(Jupyter){Jupyter.notebook.save_checkpoint()})"
      ],
      "text/plain": [
       "<IPython.core.display.Javascript object>"
      ]
     },
     "metadata": {},
     "output_type": "display_data"
    },
    {
     "name": "stdout",
     "output_type": "stream",
     "text": [
      "[jovian] Attempting to save notebook..\u001b[0m\n",
      "[jovian] Please enter your API key ( from https://jovian.ml/ ):\u001b[0m\n",
      "API KEY: ········\n",
      "[jovian] Updating notebook \"soham-a-shah/02-insurance-linear-regression\" on https://jovian.ml/\u001b[0m\n",
      "[jovian] Uploading notebook..\u001b[0m\n",
      "[jovian] Committed successfully! https://jovian.ml/soham-a-shah/02-insurance-linear-regression\u001b[0m\n"
     ]
    },
    {
     "data": {
      "text/plain": [
       "'https://jovian.ml/soham-a-shah/02-insurance-linear-regression'"
      ]
     },
     "execution_count": 17,
     "metadata": {},
     "output_type": "execute_result"
    }
   ],
   "source": [
    "jovian.commit(project=project_name, environment=None)"
   ]
  },
  {
   "cell_type": "markdown",
   "metadata": {},
   "source": [
    "## Step 2: Prepare the dataset for training\n",
    "\n",
    "We need to convert the data from the Pandas dataframe into a PyTorch tensors for training. To do this, the first step is to convert it numpy arrays. If you've filled out `input_cols`, `categorial_cols` and `output_cols` correctly, this following function will perform the conversion to numpy arrays."
   ]
  },
  {
   "cell_type": "code",
   "execution_count": 19,
   "metadata": {},
   "outputs": [],
   "source": [
    "def dataframe_to_arrays(dataframe):\n",
    "    # Make a copy of the original dataframe\n",
    "    dataframe1 = dataframe.copy(deep=True)\n",
    "    # Convert non-numeric categorical columns to numbers\n",
    "    for col in categorical_cols:\n",
    "        dataframe1[col] = dataframe1[col].astype('category').cat.codes\n",
    "    # Extract input & outupts as numpy arrays\n",
    "    inputs_array = dataframe1[input_cols].to_numpy()\n",
    "    targets_array = dataframe1[output_cols].to_numpy()\n",
    "    return inputs_array, targets_array"
   ]
  },
  {
   "cell_type": "markdown",
   "metadata": {},
   "source": [
    "Read through the [Pandas documentation](https://pandas.pydata.org/pandas-docs/stable/user_guide/categorical.html) to understand how we're converting categorical variables into numbers."
   ]
  },
  {
   "cell_type": "code",
   "execution_count": 20,
   "metadata": {},
   "outputs": [
    {
     "data": {
      "text/plain": [
       "(array([[43.     ,  1.     , 31.5898 ,  2.     ,  1.     ,  2.     ],\n",
       "        [25.     ,  0.     , 19.47595,  0.     ,  0.     ,  0.     ],\n",
       "        [37.     ,  0.     , 28.884  ,  2.     ,  1.     ,  3.     ],\n",
       "        ...,\n",
       "        [47.     ,  1.     , 21.0903 ,  1.     ,  1.     ,  2.     ],\n",
       "        [35.     ,  1.     , 20.0279 ,  1.     ,  0.     ,  1.     ],\n",
       "        [43.     ,  0.     , 20.9741 ,  1.     ,  1.     ,  0.     ]]),\n",
       " array([[20854.610896 ],\n",
       "        [ 1571.1807615],\n",
       "        [19519.89431  ],\n",
       "        ...,\n",
       "        [10769.551681 ],\n",
       "        [ 2511.355693 ],\n",
       "        [10667.957727 ]]))"
      ]
     },
     "execution_count": 20,
     "metadata": {},
     "output_type": "execute_result"
    }
   ],
   "source": [
    "inputs_array, targets_array = dataframe_to_arrays(dataframe)\n",
    "inputs_array, targets_array"
   ]
  },
  {
   "cell_type": "markdown",
   "metadata": {},
   "source": [
    "**Q: Convert the numpy arrays `inputs_array` and `targets_array` into PyTorch tensors. Make sure that the data type is `torch.float32`.**"
   ]
  },
  {
   "cell_type": "code",
   "execution_count": 21,
   "metadata": {},
   "outputs": [],
   "source": [
    "inputs = torch.tensor(inputs_array, dtype=torch.float32)\n",
    "targets = torch.tensor(targets_array, dtype=torch.float32)"
   ]
  },
  {
   "cell_type": "code",
   "execution_count": 22,
   "metadata": {},
   "outputs": [
    {
     "data": {
      "text/plain": [
       "(torch.float32, torch.float32)"
      ]
     },
     "execution_count": 22,
     "metadata": {},
     "output_type": "execute_result"
    }
   ],
   "source": [
    "inputs.dtype, targets.dtype"
   ]
  },
  {
   "cell_type": "markdown",
   "metadata": {},
   "source": [
    "Next, we need to create PyTorch datasets & data loaders for training & validation. We'll start by creating a `TensorDataset`."
   ]
  },
  {
   "cell_type": "code",
   "execution_count": 23,
   "metadata": {},
   "outputs": [],
   "source": [
    "dataset = TensorDataset(inputs, targets)"
   ]
  },
  {
   "cell_type": "markdown",
   "metadata": {},
   "source": [
    "**Q: Pick a number between `0.1` and `0.2` to determine the fraction of data that will be used for creating the validation set. Then use `random_split` to create training & validation datasets. **"
   ]
  },
  {
   "cell_type": "code",
   "execution_count": 24,
   "metadata": {},
   "outputs": [
    {
     "name": "stdout",
     "output_type": "stream",
     "text": [
      "0.15000000000000002\n"
     ]
    }
   ],
   "source": [
    "val_percent = (0.1+0.2)/2 # between 0.1 and 0.2\n",
    "print(val_percent)\n",
    "val_size = int(num_rows * val_percent)\n",
    "train_size = num_rows - val_size\n",
    "\n",
    "\n",
    "train_ds, val_ds = random_split(dataset, [train_size, val_size]) # Use the random_split function to split dataset into 2 parts of the desired length"
   ]
  },
  {
   "cell_type": "markdown",
   "metadata": {},
   "source": [
    "Finally, we can create data loaders for training & validation.\n",
    "\n",
    "**Q: Pick a batch size for the data loader.**"
   ]
  },
  {
   "cell_type": "code",
   "execution_count": 25,
   "metadata": {},
   "outputs": [],
   "source": [
    "batch_size = 32"
   ]
  },
  {
   "cell_type": "code",
   "execution_count": 26,
   "metadata": {},
   "outputs": [],
   "source": [
    "train_loader = DataLoader(train_ds, batch_size, shuffle=True)\n",
    "val_loader = DataLoader(val_ds, batch_size)"
   ]
  },
  {
   "cell_type": "markdown",
   "metadata": {},
   "source": [
    "Let's look at a batch of data to verify everything is working fine so far."
   ]
  },
  {
   "cell_type": "code",
   "execution_count": 27,
   "metadata": {},
   "outputs": [
    {
     "name": "stdout",
     "output_type": "stream",
     "text": [
      "inputs: tensor([[56.0000,  0.0000, 22.0780,  1.0000,  0.0000,  1.0000],\n",
      "        [25.0000,  0.0000, 34.9679,  1.0000,  0.0000,  2.0000],\n",
      "        [23.0000,  0.0000, 35.4825,  1.0000,  1.0000,  0.0000],\n",
      "        [58.0000,  0.0000, 27.3610,  0.0000,  0.0000,  0.0000],\n",
      "        [60.0000,  0.0000, 29.8841,  0.0000,  0.0000,  0.0000],\n",
      "        [41.0000,  1.0000, 19.8702,  1.0000,  0.0000,  0.0000],\n",
      "        [51.0000,  1.0000, 20.2645,  4.0000,  0.0000,  1.0000],\n",
      "        [49.0000,  1.0000, 25.1490,  0.0000,  0.0000,  3.0000],\n",
      "        [31.0000,  1.0000, 16.9320,  0.0000,  0.0000,  3.0000],\n",
      "        [62.0000,  1.0000, 26.6513,  0.0000,  0.0000,  0.0000],\n",
      "        [47.0000,  0.0000, 20.0030,  1.0000,  0.0000,  3.0000],\n",
      "        [53.0000,  1.0000, 23.9704,  0.0000,  0.0000,  1.0000],\n",
      "        [63.0000,  0.0000, 20.8164,  0.0000,  0.0000,  1.0000],\n",
      "        [56.0000,  0.0000, 23.4973,  0.0000,  0.0000,  0.0000],\n",
      "        [30.0000,  1.0000, 26.0620,  1.0000,  0.0000,  3.0000],\n",
      "        [55.0000,  1.0000, 30.9590,  0.0000,  0.0000,  3.0000],\n",
      "        [28.0000,  1.0000, 22.3934,  2.0000,  0.0000,  0.0000],\n",
      "        [49.0000,  1.0000, 26.8090,  3.0000,  0.0000,  1.0000],\n",
      "        [34.0000,  0.0000, 15.7700,  3.0000,  0.0000,  0.0000],\n",
      "        [63.0000,  0.0000, 31.2910,  0.0000,  1.0000,  3.0000],\n",
      "        [49.0000,  0.0000, 19.7913,  3.0000,  1.0000,  0.0000],\n",
      "        [28.0000,  0.0000, 22.0033,  2.0000,  0.0000,  2.0000],\n",
      "        [35.0000,  0.0000, 28.3943,  1.0000,  0.0000,  2.0000],\n",
      "        [62.0000,  0.0000, 25.3109,  2.0000,  0.0000,  1.0000],\n",
      "        [61.0000,  1.0000, 19.6336,  0.0000,  0.0000,  0.0000],\n",
      "        [42.0000,  1.0000, 22.3270,  0.0000,  0.0000,  3.0000],\n",
      "        [37.0000,  1.0000, 25.6262,  3.0000,  0.0000,  1.0000],\n",
      "        [51.0000,  1.0000, 29.8551,  1.0000,  0.0000,  2.0000],\n",
      "        [22.0000,  1.0000, 32.7850,  0.0000,  0.0000,  3.0000],\n",
      "        [49.0000,  0.0000, 28.8591,  1.0000,  0.0000,  1.0000],\n",
      "        [53.0000,  1.0000, 28.3071,  0.0000,  1.0000,  0.0000],\n",
      "        [61.0000,  0.0000, 32.4530,  2.0000,  0.0000,  3.0000]])\n",
      "targets: tensor([[ 5901.7275],\n",
      "        [ 1586.8335],\n",
      "        [20043.0586],\n",
      "        [ 6091.1670],\n",
      "        [ 6482.1348],\n",
      "        [ 3360.6550],\n",
      "        [ 5644.8491],\n",
      "        [ 3977.1731],\n",
      "        [ 1597.4976],\n",
      "        [ 6641.9526],\n",
      "        [12855.9238],\n",
      "        [ 4836.2070],\n",
      "        [ 6984.7578],\n",
      "        [ 5712.2822],\n",
      "        [ 1793.0796],\n",
      "        [10108.8389],\n",
      "        [ 2173.1960],\n",
      "        [ 5032.0352],\n",
      "        [ 3308.9885],\n",
      "        [23923.9805],\n",
      "        [11812.3867],\n",
      "        [ 2126.8162],\n",
      "        [ 2570.1611],\n",
      "        [ 7359.6826],\n",
      "        [ 6433.5059],\n",
      "        [ 2925.1643],\n",
      "        [ 3330.4629],\n",
      "        [ 4599.2192],\n",
      "        [  824.4725],\n",
      "        [ 4696.1079],\n",
      "        [21194.6641],\n",
      "        [ 6975.1851]])\n"
     ]
    }
   ],
   "source": [
    "for xb, yb in train_loader:\n",
    "    print(\"inputs:\", xb)\n",
    "    print(\"targets:\", yb)\n",
    "    break"
   ]
  },
  {
   "cell_type": "markdown",
   "metadata": {},
   "source": [
    "Let's save our work by committing to Jovian."
   ]
  },
  {
   "cell_type": "code",
   "execution_count": 28,
   "metadata": {},
   "outputs": [
    {
     "data": {
      "application/javascript": [
       "window.require && require([\"base/js/namespace\"],function(Jupyter){Jupyter.notebook.save_checkpoint()})"
      ],
      "text/plain": [
       "<IPython.core.display.Javascript object>"
      ]
     },
     "metadata": {},
     "output_type": "display_data"
    },
    {
     "name": "stdout",
     "output_type": "stream",
     "text": [
      "[jovian] Attempting to save notebook..\u001b[0m\n",
      "[jovian] Updating notebook \"soham-a-shah/02-insurance-linear-regression\" on https://jovian.ml/\u001b[0m\n",
      "[jovian] Uploading notebook..\u001b[0m\n",
      "[jovian] Committed successfully! https://jovian.ml/soham-a-shah/02-insurance-linear-regression\u001b[0m\n"
     ]
    },
    {
     "data": {
      "text/plain": [
       "'https://jovian.ml/soham-a-shah/02-insurance-linear-regression'"
      ]
     },
     "execution_count": 28,
     "metadata": {},
     "output_type": "execute_result"
    }
   ],
   "source": [
    "jovian.commit(project=project_name, environment=None)"
   ]
  },
  {
   "cell_type": "markdown",
   "metadata": {},
   "source": [
    "## Step 3: Create a Linear Regression Model\n",
    "\n",
    "Our model itself is a fairly straightforward linear regression (we'll build more complex models in the next assignment). \n"
   ]
  },
  {
   "cell_type": "code",
   "execution_count": 30,
   "metadata": {},
   "outputs": [
    {
     "data": {
      "text/plain": [
       "(6, 1)"
      ]
     },
     "execution_count": 30,
     "metadata": {},
     "output_type": "execute_result"
    }
   ],
   "source": [
    "input_size = len(input_cols)\n",
    "output_size = len(output_cols)\n",
    "input_size, output_size"
   ]
  },
  {
   "cell_type": "markdown",
   "metadata": {},
   "source": [
    "**Q: Complete the class definition below by filling out the constructor (`__init__`), `forward`, `training_step` and `validation_step` methods.**\n",
    "\n",
    "Hint: Think carefully about picking a good loss fuction (it's not cross entropy). Maybe try 2-3 of them and see which one works best. See https://pytorch.org/docs/stable/nn.functional.html#loss-functions"
   ]
  },
  {
   "cell_type": "code",
   "execution_count": 32,
   "metadata": {},
   "outputs": [],
   "source": [
    "class InsuranceModel(nn.Module):\n",
    "    def __init__(self):\n",
    "        super().__init__()\n",
    "        self.linear = nn.Linear(input_size, output_size)                  # fill this (hint: use input_size & output_size defined above)\n",
    "        \n",
    "    def forward(self, xb):\n",
    "        out = self.linear(xb)                          # fill this\n",
    "        return out\n",
    "    \n",
    "    def training_step(self, batch):\n",
    "        inputs, targets = batch \n",
    "        # Generate predictions\n",
    "        out = self(inputs)          \n",
    "        # Calcuate loss\n",
    "        loss = F.l1_loss(out,targets)                           # fill this\n",
    "        return loss\n",
    "    \n",
    "    def validation_step(self, batch):\n",
    "        inputs, targets = batch\n",
    "        # Generate predictions\n",
    "        out = self(inputs)\n",
    "        # Calculate loss\n",
    "        loss = F.l1_loss(out,targets)                            # fill this    \n",
    "        return {'val_loss': loss.detach()}\n",
    "        \n",
    "    def validation_epoch_end(self, outputs):\n",
    "        batch_losses = [x['val_loss'] for x in outputs]\n",
    "        epoch_loss = torch.stack(batch_losses).mean()   # Combine losses\n",
    "        return {'val_loss': epoch_loss.item()}\n",
    "    \n",
    "    def epoch_end(self, epoch, result, num_epochs):\n",
    "        # Print result every 20th epoch\n",
    "        if (epoch+1) % 20 == 0 or epoch == num_epochs-1:\n",
    "            print(\"Epoch [{}], val_loss: {:.4f}\".format(epoch+1, result['val_loss']))"
   ]
  },
  {
   "cell_type": "markdown",
   "metadata": {},
   "source": [
    "Let us create a model using the `InsuranceModel` class. You may need to come back later and re-run the next cell to reinitialize the model, in case the loss becomes `nan` or `infinity`."
   ]
  },
  {
   "cell_type": "code",
   "execution_count": 33,
   "metadata": {},
   "outputs": [],
   "source": [
    "model = InsuranceModel()"
   ]
  },
  {
   "cell_type": "markdown",
   "metadata": {},
   "source": [
    "Let's check out the weights and biases of the model using `model.parameters`."
   ]
  },
  {
   "cell_type": "code",
   "execution_count": 34,
   "metadata": {},
   "outputs": [
    {
     "data": {
      "text/plain": [
       "[Parameter containing:\n",
       " tensor([[-0.0699,  0.2393, -0.0625,  0.0327, -0.2641,  0.0116]],\n",
       "        requires_grad=True),\n",
       " Parameter containing:\n",
       " tensor([0.0055], requires_grad=True)]"
      ]
     },
     "execution_count": 34,
     "metadata": {},
     "output_type": "execute_result"
    }
   ],
   "source": [
    "list(model.parameters())"
   ]
  },
  {
   "cell_type": "markdown",
   "metadata": {},
   "source": [
    "One final commit before we train the model."
   ]
  },
  {
   "cell_type": "code",
   "execution_count": 35,
   "metadata": {},
   "outputs": [
    {
     "data": {
      "application/javascript": [
       "window.require && require([\"base/js/namespace\"],function(Jupyter){Jupyter.notebook.save_checkpoint()})"
      ],
      "text/plain": [
       "<IPython.core.display.Javascript object>"
      ]
     },
     "metadata": {},
     "output_type": "display_data"
    },
    {
     "name": "stdout",
     "output_type": "stream",
     "text": [
      "[jovian] Attempting to save notebook..\u001b[0m\n",
      "[jovian] Updating notebook \"soham-a-shah/02-insurance-linear-regression\" on https://jovian.ml/\u001b[0m\n",
      "[jovian] Uploading notebook..\u001b[0m\n",
      "[jovian] Committed successfully! https://jovian.ml/soham-a-shah/02-insurance-linear-regression\u001b[0m\n"
     ]
    },
    {
     "data": {
      "text/plain": [
       "'https://jovian.ml/soham-a-shah/02-insurance-linear-regression'"
      ]
     },
     "execution_count": 35,
     "metadata": {},
     "output_type": "execute_result"
    }
   ],
   "source": [
    "jovian.commit(project=project_name, environment=None)"
   ]
  },
  {
   "cell_type": "markdown",
   "metadata": {},
   "source": [
    "## Step 4: Train the model to fit the data\n",
    "\n",
    "To train our model, we'll use the same `fit` function explained in the lecture. That's the benefit of defining a generic training loop - you can use it for any problem."
   ]
  },
  {
   "cell_type": "code",
   "execution_count": 38,
   "metadata": {},
   "outputs": [],
   "source": [
    "def evaluate(model, val_loader):\n",
    "    outputs = [model.validation_step(batch) for batch in val_loader]\n",
    "    return model.validation_epoch_end(outputs)\n",
    "\n",
    "def fit(epochs, lr, model, train_loader, val_loader, opt_func=torch.optim.SGD):\n",
    "    history = []\n",
    "    optimizer = opt_func(model.parameters(), lr)\n",
    "    for epoch in range(epochs):\n",
    "        # Training Phase \n",
    "        for batch in train_loader:\n",
    "            loss = model.training_step(batch)\n",
    "            loss.backward()\n",
    "            optimizer.step()\n",
    "            optimizer.zero_grad()\n",
    "        # Validation phase\n",
    "        result = evaluate(model, val_loader)\n",
    "        model.epoch_end(epoch, result, epochs)\n",
    "        history.append(result)\n",
    "    return history"
   ]
  },
  {
   "cell_type": "markdown",
   "metadata": {},
   "source": [
    "**Q: Use the `evaluate` function to calculate the loss on the validation set before training.**"
   ]
  },
  {
   "cell_type": "code",
   "execution_count": 39,
   "metadata": {},
   "outputs": [
    {
     "name": "stdout",
     "output_type": "stream",
     "text": [
      "{'val_loss': 5814.63427734375}\n"
     ]
    }
   ],
   "source": [
    "result = evaluate(model, val_loader) # Use the the evaluate function\n",
    "print(result)"
   ]
  },
  {
   "cell_type": "markdown",
   "metadata": {},
   "source": [
    "\n",
    "We are now ready to train the model. You may need to run the training loop many times, for different number of epochs and with different learning rates, to get a good result. Also, if your loss becomes too large (or `nan`), you may have to re-initialize the model by running the cell `model = InsuranceModel()`. Experiment with this for a while, and try to get to as low a loss as possible."
   ]
  },
  {
   "cell_type": "markdown",
   "metadata": {},
   "source": [
    "**Q: Train the model 4-5 times with different learning rates & for different number of epochs.**\n",
    "\n",
    "Hint: Vary learning rates by orders of 10 (e.g. `1e-2`, `1e-3`, `1e-4`, `1e-5`, `1e-6`) to figure out what works."
   ]
  },
  {
   "cell_type": "code",
   "execution_count": 40,
   "metadata": {},
   "outputs": [
    {
     "name": "stdout",
     "output_type": "stream",
     "text": [
      "Epoch [20], val_loss: 3060.6240\n",
      "Epoch [40], val_loss: 3003.0254\n",
      "Epoch [60], val_loss: 2951.2937\n",
      "Epoch [80], val_loss: 2909.7102\n",
      "Epoch [100], val_loss: 2882.8362\n",
      "Epoch [120], val_loss: 2865.3020\n",
      "Epoch [140], val_loss: 2859.4199\n",
      "Epoch [160], val_loss: 2855.6555\n",
      "Epoch [180], val_loss: 2852.8289\n",
      "Epoch [200], val_loss: 2851.1360\n",
      "Epoch [220], val_loss: 2850.6533\n",
      "Epoch [240], val_loss: 2849.9260\n",
      "Epoch [260], val_loss: 2849.3274\n",
      "Epoch [280], val_loss: 2847.3943\n",
      "Epoch [300], val_loss: 2847.1296\n",
      "Epoch [320], val_loss: 2845.9092\n",
      "Epoch [340], val_loss: 2844.5579\n",
      "Epoch [360], val_loss: 2843.5176\n",
      "Epoch [380], val_loss: 2843.3027\n",
      "Epoch [400], val_loss: 2842.2263\n",
      "Epoch [420], val_loss: 2840.9958\n",
      "Epoch [440], val_loss: 2840.6562\n",
      "Epoch [460], val_loss: 2839.3379\n",
      "Epoch [480], val_loss: 2838.8923\n",
      "Epoch [500], val_loss: 2838.8318\n",
      "Epoch [520], val_loss: 2838.1570\n",
      "Epoch [540], val_loss: 2836.6091\n",
      "Epoch [560], val_loss: 2836.0369\n",
      "Epoch [580], val_loss: 2835.0906\n",
      "Epoch [600], val_loss: 2833.9119\n",
      "Epoch [620], val_loss: 2834.3293\n",
      "Epoch [640], val_loss: 2833.7302\n",
      "Epoch [660], val_loss: 2832.7441\n",
      "Epoch [680], val_loss: 2831.8518\n",
      "Epoch [700], val_loss: 2831.4490\n",
      "Epoch [720], val_loss: 2831.1738\n",
      "Epoch [740], val_loss: 2829.7820\n",
      "Epoch [760], val_loss: 2829.2937\n",
      "Epoch [780], val_loss: 2827.8601\n",
      "Epoch [800], val_loss: 2827.7949\n",
      "Epoch [820], val_loss: 2827.5959\n",
      "Epoch [840], val_loss: 2826.3748\n",
      "Epoch [860], val_loss: 2825.2366\n",
      "Epoch [880], val_loss: 2824.8467\n",
      "Epoch [900], val_loss: 2824.1619\n",
      "Epoch [920], val_loss: 2823.1492\n",
      "Epoch [940], val_loss: 2823.1980\n",
      "Epoch [960], val_loss: 2821.9414\n",
      "Epoch [980], val_loss: 2822.0264\n",
      "Epoch [1000], val_loss: 2821.2520\n"
     ]
    }
   ],
   "source": [
    "model = InsuranceModel()\n",
    "epochs = 1000\n",
    "lr = 1e-2\n",
    "history1 = fit(epochs, lr, model, train_loader, val_loader)"
   ]
  },
  {
   "cell_type": "code",
   "execution_count": 41,
   "metadata": {},
   "outputs": [
    {
     "name": "stdout",
     "output_type": "stream",
     "text": [
      "Epoch [20], val_loss: 2821.0452\n",
      "Epoch [40], val_loss: 2821.0496\n",
      "Epoch [60], val_loss: 2820.9963\n",
      "Epoch [80], val_loss: 2820.9434\n",
      "Epoch [100], val_loss: 2820.8704\n",
      "Epoch [120], val_loss: 2820.8408\n",
      "Epoch [140], val_loss: 2820.8079\n",
      "Epoch [160], val_loss: 2820.7644\n",
      "Epoch [180], val_loss: 2820.6975\n",
      "Epoch [200], val_loss: 2820.6414\n",
      "Epoch [220], val_loss: 2820.6379\n",
      "Epoch [240], val_loss: 2820.5725\n",
      "Epoch [260], val_loss: 2820.4473\n",
      "Epoch [280], val_loss: 2820.4602\n",
      "Epoch [300], val_loss: 2820.3477\n",
      "Epoch [320], val_loss: 2820.3840\n",
      "Epoch [340], val_loss: 2820.2773\n",
      "Epoch [360], val_loss: 2820.2146\n",
      "Epoch [380], val_loss: 2820.1536\n",
      "Epoch [400], val_loss: 2820.0745\n",
      "Epoch [420], val_loss: 2820.0037\n",
      "Epoch [440], val_loss: 2819.9304\n",
      "Epoch [460], val_loss: 2819.8865\n",
      "Epoch [480], val_loss: 2819.8064\n",
      "Epoch [500], val_loss: 2819.7371\n",
      "Epoch [520], val_loss: 2819.7969\n",
      "Epoch [540], val_loss: 2819.6133\n",
      "Epoch [560], val_loss: 2819.5740\n",
      "Epoch [580], val_loss: 2819.5481\n",
      "Epoch [600], val_loss: 2819.4778\n",
      "Epoch [620], val_loss: 2819.3977\n",
      "Epoch [640], val_loss: 2819.4099\n",
      "Epoch [660], val_loss: 2819.3049\n",
      "Epoch [680], val_loss: 2819.3105\n",
      "Epoch [700], val_loss: 2819.2043\n",
      "Epoch [720], val_loss: 2819.1396\n",
      "Epoch [740], val_loss: 2819.0916\n",
      "Epoch [760], val_loss: 2819.1013\n",
      "Epoch [780], val_loss: 2818.9983\n",
      "Epoch [800], val_loss: 2818.9883\n",
      "Epoch [820], val_loss: 2818.8479\n",
      "Epoch [840], val_loss: 2818.8757\n",
      "Epoch [860], val_loss: 2818.8054\n",
      "Epoch [880], val_loss: 2818.7180\n",
      "Epoch [900], val_loss: 2818.6887\n",
      "Epoch [920], val_loss: 2818.6621\n",
      "Epoch [940], val_loss: 2818.6719\n",
      "Epoch [960], val_loss: 2818.5520\n",
      "Epoch [980], val_loss: 2818.5769\n",
      "Epoch [1000], val_loss: 2818.4514\n"
     ]
    }
   ],
   "source": [
    "epochs = 1000\n",
    "lr = 1e-3\n",
    "history2 = fit(epochs, lr, model, train_loader, val_loader)"
   ]
  },
  {
   "cell_type": "code",
   "execution_count": 42,
   "metadata": {},
   "outputs": [
    {
     "name": "stdout",
     "output_type": "stream",
     "text": [
      "Epoch [20], val_loss: 2818.4514\n",
      "Epoch [40], val_loss: 2818.4500\n",
      "Epoch [60], val_loss: 2818.4414\n",
      "Epoch [80], val_loss: 2818.4387\n",
      "Epoch [100], val_loss: 2818.4343\n",
      "Epoch [120], val_loss: 2818.4304\n",
      "Epoch [140], val_loss: 2818.4167\n",
      "Epoch [160], val_loss: 2818.4231\n",
      "Epoch [180], val_loss: 2818.4150\n",
      "Epoch [200], val_loss: 2818.4050\n"
     ]
    }
   ],
   "source": [
    "epochs = 200\n",
    "lr = 1e-4\n",
    "history3 = fit(epochs, lr, model, train_loader, val_loader)"
   ]
  },
  {
   "cell_type": "code",
   "execution_count": 43,
   "metadata": {},
   "outputs": [
    {
     "name": "stdout",
     "output_type": "stream",
     "text": [
      "Epoch [20], val_loss: 2818.4045\n",
      "Epoch [40], val_loss: 2818.4050\n",
      "Epoch [60], val_loss: 2818.4036\n",
      "Epoch [80], val_loss: 2818.4036\n",
      "Epoch [100], val_loss: 2818.4036\n",
      "Epoch [120], val_loss: 2818.4031\n",
      "Epoch [140], val_loss: 2818.4041\n",
      "Epoch [160], val_loss: 2818.4026\n",
      "Epoch [180], val_loss: 2818.4014\n",
      "Epoch [200], val_loss: 2818.4006\n"
     ]
    }
   ],
   "source": [
    "epochs = 200\n",
    "lr = 1e-5\n",
    "history4 = fit(epochs, lr, model, train_loader, val_loader)"
   ]
  },
  {
   "cell_type": "code",
   "execution_count": 44,
   "metadata": {},
   "outputs": [
    {
     "name": "stdout",
     "output_type": "stream",
     "text": [
      "Epoch [20], val_loss: 2818.4011\n",
      "Epoch [40], val_loss: 2818.4011\n",
      "Epoch [60], val_loss: 2818.4014\n",
      "Epoch [80], val_loss: 2818.4016\n",
      "Epoch [100], val_loss: 2818.4016\n",
      "Epoch [120], val_loss: 2818.4021\n",
      "Epoch [140], val_loss: 2818.4021\n",
      "Epoch [160], val_loss: 2818.4023\n",
      "Epoch [180], val_loss: 2818.4021\n",
      "Epoch [200], val_loss: 2818.4016\n"
     ]
    }
   ],
   "source": [
    "epochs = 200\n",
    "lr = 1e-6\n",
    "history5 = fit(epochs, lr, model, train_loader, val_loader)"
   ]
  },
  {
   "cell_type": "markdown",
   "metadata": {},
   "source": [
    "**Q: What is the final validation loss of your model?**"
   ]
  },
  {
   "cell_type": "code",
   "execution_count": 45,
   "metadata": {},
   "outputs": [
    {
     "name": "stdout",
     "output_type": "stream",
     "text": [
      "[{'val_loss': 5814.63427734375}, {'val_loss': 5102.68359375}, {'val_loss': 4405.56689453125}, {'val_loss': 3863.559814453125}, {'val_loss': 3470.628173828125}, {'val_loss': 3245.951171875}, {'val_loss': 3123.042724609375}, {'val_loss': 3081.451904296875}, {'val_loss': 3068.4365234375}, {'val_loss': 3068.197265625}, {'val_loss': 3071.600341796875}, {'val_loss': 3073.2177734375}, {'val_loss': 3074.34765625}, {'val_loss': 3075.583251953125}, {'val_loss': 3074.291748046875}, {'val_loss': 3073.637939453125}, {'val_loss': 3070.767822265625}, {'val_loss': 3069.148681640625}, {'val_loss': 3065.780517578125}, {'val_loss': 3063.411376953125}, {'val_loss': 3060.6240234375}, {'val_loss': 3056.946044921875}, {'val_loss': 3054.550537109375}, {'val_loss': 3051.399169921875}, {'val_loss': 3046.959716796875}, {'val_loss': 3044.045654296875}, {'val_loss': 3040.6474609375}, {'val_loss': 3038.143798828125}, {'val_loss': 3035.006103515625}, {'val_loss': 3032.122802734375}, {'val_loss': 3029.9423828125}, {'val_loss': 3026.632568359375}, {'val_loss': 3024.148193359375}, {'val_loss': 3021.0576171875}, {'val_loss': 3018.363525390625}, {'val_loss': 3016.600830078125}, {'val_loss': 3013.810791015625}, {'val_loss': 3011.334716796875}, {'val_loss': 3008.673828125}, {'val_loss': 3006.3251953125}, {'val_loss': 3003.025390625}, {'val_loss': 3000.102294921875}, {'val_loss': 2996.725830078125}, {'val_loss': 2993.481689453125}, {'val_loss': 2991.3115234375}, {'val_loss': 2988.1865234375}, {'val_loss': 2986.494873046875}, {'val_loss': 2983.932861328125}, {'val_loss': 2981.896484375}, {'val_loss': 2978.598876953125}, {'val_loss': 2975.657470703125}, {'val_loss': 2972.9013671875}, {'val_loss': 2970.434326171875}, {'val_loss': 2967.3740234375}, {'val_loss': 2964.404296875}, {'val_loss': 2961.996826171875}, {'val_loss': 2960.0751953125}, {'val_loss': 2957.737548828125}, {'val_loss': 2955.730712890625}, {'val_loss': 2953.1298828125}, {'val_loss': 2951.293701171875}, {'val_loss': 2949.06640625}, {'val_loss': 2946.449951171875}, {'val_loss': 2943.348388671875}, {'val_loss': 2941.427734375}, {'val_loss': 2938.814208984375}, {'val_loss': 2937.197021484375}, {'val_loss': 2935.280517578125}, {'val_loss': 2933.697998046875}, {'val_loss': 2931.326171875}, {'val_loss': 2928.973876953125}, {'val_loss': 2927.03125}, {'val_loss': 2924.42578125}, {'val_loss': 2922.953857421875}, {'val_loss': 2920.765625}, {'val_loss': 2919.5791015625}, {'val_loss': 2918.00390625}, {'val_loss': 2915.269775390625}, {'val_loss': 2912.873291015625}, {'val_loss': 2912.080078125}, {'val_loss': 2909.710205078125}, {'val_loss': 2909.330810546875}, {'val_loss': 2906.69140625}, {'val_loss': 2904.680419921875}, {'val_loss': 2902.340576171875}, {'val_loss': 2901.722412109375}, {'val_loss': 2899.95703125}, {'val_loss': 2898.103759765625}, {'val_loss': 2896.714599609375}, {'val_loss': 2895.4140625}, {'val_loss': 2893.617431640625}, {'val_loss': 2893.13671875}, {'val_loss': 2891.663330078125}, {'val_loss': 2889.476318359375}, {'val_loss': 2888.133544921875}, {'val_loss': 2886.949462890625}, {'val_loss': 2884.8671875}, {'val_loss': 2884.379638671875}, {'val_loss': 2883.920166015625}, {'val_loss': 2883.690673828125}, {'val_loss': 2882.836181640625}, {'val_loss': 2881.295166015625}, {'val_loss': 2879.845703125}, {'val_loss': 2879.099365234375}, {'val_loss': 2878.933349609375}, {'val_loss': 2877.7783203125}, {'val_loss': 2875.9775390625}, {'val_loss': 2876.145751953125}, {'val_loss': 2874.474609375}, {'val_loss': 2873.099853515625}, {'val_loss': 2872.0927734375}, {'val_loss': 2871.678466796875}, {'val_loss': 2870.869873046875}, {'val_loss': 2869.900634765625}, {'val_loss': 2870.040771484375}, {'val_loss': 2869.494873046875}, {'val_loss': 2868.343017578125}, {'val_loss': 2867.7724609375}, {'val_loss': 2866.947509765625}, {'val_loss': 2866.44140625}, {'val_loss': 2865.302001953125}, {'val_loss': 2865.208984375}, {'val_loss': 2864.9072265625}, {'val_loss': 2865.0302734375}, {'val_loss': 2864.955322265625}, {'val_loss': 2864.611083984375}, {'val_loss': 2864.042724609375}, {'val_loss': 2863.572265625}, {'val_loss': 2863.213134765625}, {'val_loss': 2862.936767578125}, {'val_loss': 2862.519775390625}, {'val_loss': 2862.161865234375}, {'val_loss': 2861.3603515625}, {'val_loss': 2860.645751953125}, {'val_loss': 2860.7578125}, {'val_loss': 2859.828125}, {'val_loss': 2859.873291015625}, {'val_loss': 2859.993896484375}, {'val_loss': 2859.939697265625}, {'val_loss': 2859.26171875}, {'val_loss': 2859.419921875}, {'val_loss': 2859.054931640625}, {'val_loss': 2858.1201171875}, {'val_loss': 2857.869873046875}, {'val_loss': 2858.285400390625}, {'val_loss': 2857.776123046875}, {'val_loss': 2857.53125}, {'val_loss': 2857.166015625}, {'val_loss': 2857.779541015625}, {'val_loss': 2857.740478515625}, {'val_loss': 2858.896484375}, {'val_loss': 2858.1298828125}, {'val_loss': 2857.903076171875}, {'val_loss': 2857.691162109375}, {'val_loss': 2856.789306640625}, {'val_loss': 2857.919677734375}, {'val_loss': 2856.3291015625}, {'val_loss': 2855.8974609375}, {'val_loss': 2854.91015625}, {'val_loss': 2856.123046875}, {'val_loss': 2855.655517578125}, {'val_loss': 2855.208251953125}, {'val_loss': 2855.452392578125}, {'val_loss': 2855.692138671875}, {'val_loss': 2855.705078125}, {'val_loss': 2853.489990234375}, {'val_loss': 2854.168212890625}, {'val_loss': 2853.838623046875}, {'val_loss': 2854.251953125}, {'val_loss': 2855.006103515625}, {'val_loss': 2854.961669921875}, {'val_loss': 2854.778564453125}, {'val_loss': 2854.281005859375}, {'val_loss': 2854.0888671875}, {'val_loss': 2854.103271484375}, {'val_loss': 2852.932861328125}, {'val_loss': 2852.438720703125}, {'val_loss': 2852.888916015625}, {'val_loss': 2854.400146484375}, {'val_loss': 2853.842041015625}, {'val_loss': 2852.828857421875}, {'val_loss': 2853.531494140625}, {'val_loss': 2853.842529296875}, {'val_loss': 2852.767578125}, {'val_loss': 2853.7568359375}, {'val_loss': 2853.34765625}, {'val_loss': 2853.377197265625}, {'val_loss': 2853.812744140625}, {'val_loss': 2853.3359375}, {'val_loss': 2853.162109375}, {'val_loss': 2852.256591796875}, {'val_loss': 2852.559814453125}, {'val_loss': 2852.817626953125}, {'val_loss': 2853.195556640625}, {'val_loss': 2852.2587890625}, {'val_loss': 2852.524658203125}, {'val_loss': 2852.763916015625}, {'val_loss': 2853.388916015625}, {'val_loss': 2851.9248046875}, {'val_loss': 2851.75390625}, {'val_loss': 2851.135986328125}, {'val_loss': 2850.855224609375}, {'val_loss': 2851.337646484375}, {'val_loss': 2851.379638671875}, {'val_loss': 2852.052734375}, {'val_loss': 2851.4970703125}, {'val_loss': 2851.189697265625}, {'val_loss': 2851.2802734375}, {'val_loss': 2850.71484375}, {'val_loss': 2851.501953125}, {'val_loss': 2851.676513671875}, {'val_loss': 2851.721923828125}, {'val_loss': 2851.291015625}, {'val_loss': 2850.827880859375}, {'val_loss': 2850.824951171875}, {'val_loss': 2851.4462890625}, {'val_loss': 2850.725341796875}, {'val_loss': 2850.319091796875}, {'val_loss': 2850.317138671875}, {'val_loss': 2850.947509765625}, {'val_loss': 2850.6533203125}, {'val_loss': 2850.691162109375}, {'val_loss': 2850.512939453125}, {'val_loss': 2850.307861328125}, {'val_loss': 2849.497314453125}, {'val_loss': 2849.5400390625}, {'val_loss': 2849.3388671875}, {'val_loss': 2849.502197265625}, {'val_loss': 2849.815673828125}, {'val_loss': 2850.321533203125}, {'val_loss': 2850.2568359375}, {'val_loss': 2850.012939453125}, {'val_loss': 2850.109375}, {'val_loss': 2849.969482421875}, {'val_loss': 2850.309814453125}, {'val_loss': 2849.664794921875}, {'val_loss': 2848.9033203125}, {'val_loss': 2848.9580078125}, {'val_loss': 2849.923095703125}, {'val_loss': 2849.841552734375}, {'val_loss': 2849.926025390625}, {'val_loss': 2848.639892578125}, {'val_loss': 2848.980712890625}, {'val_loss': 2849.216796875}, {'val_loss': 2849.4921875}, {'val_loss': 2849.8251953125}, {'val_loss': 2849.014404296875}, {'val_loss': 2848.593505859375}, {'val_loss': 2848.87890625}, {'val_loss': 2848.548095703125}, {'val_loss': 2848.9873046875}, {'val_loss': 2848.746826171875}, {'val_loss': 2848.8828125}, {'val_loss': 2848.845458984375}, {'val_loss': 2848.983642578125}, {'val_loss': 2848.694580078125}, {'val_loss': 2848.7294921875}, {'val_loss': 2849.078125}, {'val_loss': 2849.408935546875}, {'val_loss': 2849.1171875}, {'val_loss': 2849.327392578125}, {'val_loss': 2848.655029296875}, {'val_loss': 2848.2216796875}, {'val_loss': 2848.316650390625}, {'val_loss': 2847.992919921875}, {'val_loss': 2847.689697265625}, {'val_loss': 2847.797119140625}, {'val_loss': 2847.964111328125}, {'val_loss': 2848.435302734375}, {'val_loss': 2848.348388671875}, {'val_loss': 2848.144287109375}, {'val_loss': 2847.850830078125}, {'val_loss': 2847.181640625}, {'val_loss': 2847.259521484375}, {'val_loss': 2847.739990234375}, {'val_loss': 2847.936279296875}, {'val_loss': 2847.672119140625}, {'val_loss': 2847.775634765625}, {'val_loss': 2847.735595703125}, {'val_loss': 2847.545654296875}, {'val_loss': 2847.394287109375}, {'val_loss': 2847.517578125}, {'val_loss': 2847.667724609375}, {'val_loss': 2847.495849609375}, {'val_loss': 2847.620849609375}, {'val_loss': 2847.240234375}, {'val_loss': 2847.429931640625}, {'val_loss': 2847.597412109375}, {'val_loss': 2847.454345703125}, {'val_loss': 2847.29296875}, {'val_loss': 2847.423828125}, {'val_loss': 2847.417236328125}, {'val_loss': 2847.271484375}, {'val_loss': 2847.630615234375}, {'val_loss': 2847.513671875}, {'val_loss': 2847.382080078125}, {'val_loss': 2847.302001953125}, {'val_loss': 2847.295166015625}, {'val_loss': 2847.241455078125}, {'val_loss': 2847.422119140625}, {'val_loss': 2847.129638671875}, {'val_loss': 2847.0625}, {'val_loss': 2847.160888671875}, {'val_loss': 2847.09375}, {'val_loss': 2847.215087890625}, {'val_loss': 2846.749755859375}, {'val_loss': 2846.830078125}, {'val_loss': 2846.691162109375}, {'val_loss': 2846.436279296875}, {'val_loss': 2846.399169921875}, {'val_loss': 2846.411376953125}, {'val_loss': 2846.324462890625}, {'val_loss': 2846.00390625}, {'val_loss': 2845.966552734375}, {'val_loss': 2845.8212890625}, {'val_loss': 2845.737060546875}, {'val_loss': 2846.197998046875}, {'val_loss': 2846.267333984375}, {'val_loss': 2846.2734375}, {'val_loss': 2846.147705078125}, {'val_loss': 2845.9091796875}, {'val_loss': 2846.063232421875}, {'val_loss': 2845.867919921875}, {'val_loss': 2845.898681640625}, {'val_loss': 2845.765380859375}, {'val_loss': 2845.863525390625}, {'val_loss': 2845.91796875}, {'val_loss': 2845.7685546875}, {'val_loss': 2845.677734375}, {'val_loss': 2845.640380859375}, {'val_loss': 2845.496826171875}, {'val_loss': 2845.1865234375}, {'val_loss': 2845.022705078125}, {'val_loss': 2844.550048828125}, {'val_loss': 2844.560546875}, {'val_loss': 2844.620361328125}, {'val_loss': 2844.95703125}, {'val_loss': 2844.986083984375}, {'val_loss': 2844.954345703125}, {'val_loss': 2844.586181640625}, {'val_loss': 2844.557861328125}, {'val_loss': 2844.525634765625}, {'val_loss': 2844.305908203125}, {'val_loss': 2844.213134765625}, {'val_loss': 2844.7412109375}, {'val_loss': 2845.276611328125}, {'val_loss': 2844.612548828125}, {'val_loss': 2844.347900390625}, {'val_loss': 2844.532470703125}, {'val_loss': 2844.219482421875}, {'val_loss': 2844.131591796875}, {'val_loss': 2843.961181640625}, {'val_loss': 2844.2080078125}, {'val_loss': 2844.2861328125}, {'val_loss': 2844.1025390625}, {'val_loss': 2843.8564453125}, {'val_loss': 2844.069091796875}, {'val_loss': 2844.1865234375}, {'val_loss': 2843.9443359375}, {'val_loss': 2843.7275390625}, {'val_loss': 2843.517578125}, {'val_loss': 2844.083251953125}, {'val_loss': 2843.974609375}, {'val_loss': 2843.9033203125}, {'val_loss': 2843.724853515625}, {'val_loss': 2843.4296875}, {'val_loss': 2843.709716796875}, {'val_loss': 2843.5859375}, {'val_loss': 2843.436767578125}, {'val_loss': 2843.375732421875}, {'val_loss': 2843.098876953125}, {'val_loss': 2842.988037109375}, {'val_loss': 2842.741455078125}, {'val_loss': 2842.9267578125}, {'val_loss': 2842.787353515625}, {'val_loss': 2842.696533203125}, {'val_loss': 2842.3740234375}, {'val_loss': 2842.6181640625}, {'val_loss': 2843.558837890625}, {'val_loss': 2843.568359375}, {'val_loss': 2843.302734375}, {'val_loss': 2843.383544921875}, {'val_loss': 2843.1494140625}, {'val_loss': 2842.852783203125}, {'val_loss': 2842.669189453125}, {'val_loss': 2842.787841796875}, {'val_loss': 2843.057373046875}, {'val_loss': 2842.58984375}, {'val_loss': 2842.102783203125}, {'val_loss': 2841.728515625}, {'val_loss': 2842.202392578125}, {'val_loss': 2842.146240234375}, {'val_loss': 2842.0556640625}, {'val_loss': 2842.302490234375}, {'val_loss': 2842.047607421875}, {'val_loss': 2841.834228515625}, {'val_loss': 2841.540771484375}, {'val_loss': 2842.250732421875}, {'val_loss': 2843.174072265625}, {'val_loss': 2843.2919921875}, {'val_loss': 2842.226318359375}, {'val_loss': 2842.416259765625}, {'val_loss': 2842.0869140625}, {'val_loss': 2842.135009765625}, {'val_loss': 2842.252197265625}, {'val_loss': 2842.200927734375}, {'val_loss': 2842.401611328125}, {'val_loss': 2841.927001953125}, {'val_loss': 2841.704345703125}, {'val_loss': 2841.644287109375}, {'val_loss': 2841.987060546875}, {'val_loss': 2842.4775390625}, {'val_loss': 2842.213134765625}, {'val_loss': 2841.799560546875}, {'val_loss': 2841.560546875}, {'val_loss': 2841.2734375}, {'val_loss': 2841.1572265625}, {'val_loss': 2841.2783203125}, {'val_loss': 2841.2265625}, {'val_loss': 2840.914306640625}, {'val_loss': 2840.995849609375}, {'val_loss': 2841.125732421875}, {'val_loss': 2841.193359375}, {'val_loss': 2841.162109375}, {'val_loss': 2841.40234375}, {'val_loss': 2841.251220703125}, {'val_loss': 2840.996826171875}, {'val_loss': 2841.148193359375}, {'val_loss': 2841.013427734375}, {'val_loss': 2840.785888671875}, {'val_loss': 2840.75}, {'val_loss': 2840.57421875}, {'val_loss': 2840.510986328125}, {'val_loss': 2840.897705078125}, {'val_loss': 2840.911865234375}, {'val_loss': 2840.636474609375}, {'val_loss': 2841.2451171875}, {'val_loss': 2840.9921875}, {'val_loss': 2841.152587890625}, {'val_loss': 2840.679931640625}, {'val_loss': 2840.65625}, {'val_loss': 2840.935791015625}, {'val_loss': 2840.9697265625}, {'val_loss': 2840.605224609375}, {'val_loss': 2840.3291015625}, {'val_loss': 2840.566650390625}, {'val_loss': 2840.4970703125}, {'val_loss': 2840.361328125}, {'val_loss': 2839.9951171875}, {'val_loss': 2840.985107421875}, {'val_loss': 2840.669189453125}, {'val_loss': 2840.392822265625}, {'val_loss': 2839.8408203125}, {'val_loss': 2839.751708984375}, {'val_loss': 2840.309814453125}, {'val_loss': 2840.717041015625}, {'val_loss': 2840.458984375}, {'val_loss': 2840.138671875}, {'val_loss': 2839.870361328125}, {'val_loss': 2839.70703125}, {'val_loss': 2839.337890625}, {'val_loss': 2839.916259765625}, {'val_loss': 2839.6357421875}, {'val_loss': 2839.718505859375}, {'val_loss': 2839.279052734375}, {'val_loss': 2840.1650390625}, {'val_loss': 2839.8525390625}, {'val_loss': 2840.110107421875}, {'val_loss': 2839.867919921875}, {'val_loss': 2839.280517578125}, {'val_loss': 2839.251220703125}, {'val_loss': 2839.976318359375}, {'val_loss': 2839.600830078125}, {'val_loss': 2838.764892578125}, {'val_loss': 2839.291015625}, {'val_loss': 2838.853515625}, {'val_loss': 2838.7646484375}, {'val_loss': 2839.1552734375}, {'val_loss': 2838.8642578125}, {'val_loss': 2838.693359375}, {'val_loss': 2838.892333984375}, {'val_loss': 2839.073486328125}, {'val_loss': 2839.058349609375}, {'val_loss': 2839.134521484375}, {'val_loss': 2839.1025390625}, {'val_loss': 2840.307373046875}, {'val_loss': 2839.6884765625}, {'val_loss': 2839.506591796875}, {'val_loss': 2839.149169921875}, {'val_loss': 2838.6328125}, {'val_loss': 2838.985595703125}, {'val_loss': 2838.482666015625}, {'val_loss': 2838.825927734375}, {'val_loss': 2839.092529296875}, {'val_loss': 2839.371337890625}, {'val_loss': 2838.502685546875}, {'val_loss': 2837.964599609375}, {'val_loss': 2837.639892578125}, {'val_loss': 2838.105712890625}, {'val_loss': 2838.083740234375}, {'val_loss': 2838.831787109375}, {'val_loss': 2838.2958984375}, {'val_loss': 2838.3759765625}, {'val_loss': 2838.2353515625}, {'val_loss': 2838.126220703125}, {'val_loss': 2838.030029296875}, {'val_loss': 2838.424072265625}, {'val_loss': 2838.186279296875}, {'val_loss': 2838.305419921875}, {'val_loss': 2837.826171875}, {'val_loss': 2838.439453125}, {'val_loss': 2837.591552734375}, {'val_loss': 2837.6669921875}, {'val_loss': 2837.488037109375}, {'val_loss': 2837.493896484375}, {'val_loss': 2837.001220703125}, {'val_loss': 2837.825927734375}, {'val_loss': 2838.50390625}, {'val_loss': 2837.9736328125}, {'val_loss': 2838.241455078125}, {'val_loss': 2838.156982421875}, {'val_loss': 2837.736328125}, {'val_loss': 2837.372802734375}, {'val_loss': 2837.902099609375}, {'val_loss': 2837.250244140625}, {'val_loss': 2837.212158203125}, {'val_loss': 2837.130615234375}, {'val_loss': 2837.256591796875}, {'val_loss': 2836.7099609375}, {'val_loss': 2836.509033203125}, {'val_loss': 2836.887451171875}, {'val_loss': 2837.748779296875}, {'val_loss': 2837.4072265625}, {'val_loss': 2837.588623046875}, {'val_loss': 2836.727783203125}, {'val_loss': 2836.962890625}, {'val_loss': 2836.993896484375}, {'val_loss': 2837.268310546875}, {'val_loss': 2837.140869140625}, {'val_loss': 2836.530029296875}, {'val_loss': 2836.609130859375}, {'val_loss': 2836.650390625}, {'val_loss': 2836.465087890625}, {'val_loss': 2836.753173828125}, {'val_loss': 2836.445068359375}, {'val_loss': 2836.691650390625}, {'val_loss': 2836.871826171875}, {'val_loss': 2836.532958984375}, {'val_loss': 2836.180908203125}, {'val_loss': 2836.8212890625}, {'val_loss': 2836.569091796875}, {'val_loss': 2836.614501953125}, {'val_loss': 2835.988525390625}, {'val_loss': 2835.962158203125}, {'val_loss': 2836.196533203125}, {'val_loss': 2836.175537109375}, {'val_loss': 2836.036865234375}, {'val_loss': 2836.556396484375}, {'val_loss': 2836.572265625}, {'val_loss': 2835.967529296875}, {'val_loss': 2836.036865234375}, {'val_loss': 2836.231201171875}, {'val_loss': 2835.999755859375}, {'val_loss': 2836.419677734375}, {'val_loss': 2836.16015625}, {'val_loss': 2836.206298828125}, {'val_loss': 2836.077392578125}, {'val_loss': 2835.699462890625}, {'val_loss': 2835.860595703125}, {'val_loss': 2836.163330078125}, {'val_loss': 2836.155517578125}, {'val_loss': 2836.396240234375}, {'val_loss': 2836.214599609375}, {'val_loss': 2836.166748046875}, {'val_loss': 2835.805419921875}, {'val_loss': 2835.6650390625}, {'val_loss': 2835.2724609375}, {'val_loss': 2835.432861328125}, {'val_loss': 2835.290771484375}, {'val_loss': 2835.255859375}, {'val_loss': 2835.090576171875}, {'val_loss': 2835.5419921875}, {'val_loss': 2834.7724609375}, {'val_loss': 2835.296630859375}, {'val_loss': 2835.419189453125}, {'val_loss': 2835.516357421875}, {'val_loss': 2834.7841796875}, {'val_loss': 2834.850830078125}, {'val_loss': 2834.8369140625}, {'val_loss': 2834.521240234375}, {'val_loss': 2834.494140625}, {'val_loss': 2834.8837890625}, {'val_loss': 2835.150146484375}, {'val_loss': 2835.4814453125}, {'val_loss': 2835.200439453125}, {'val_loss': 2834.533203125}, {'val_loss': 2834.982421875}, {'val_loss': 2834.806640625}, {'val_loss': 2834.195556640625}, {'val_loss': 2834.294921875}, {'val_loss': 2833.911865234375}, {'val_loss': 2835.104248046875}, {'val_loss': 2835.169189453125}, {'val_loss': 2835.335205078125}, {'val_loss': 2835.2705078125}, {'val_loss': 2834.476318359375}, {'val_loss': 2834.449951171875}, {'val_loss': 2834.860595703125}, {'val_loss': 2834.333984375}, {'val_loss': 2834.83203125}, {'val_loss': 2834.9326171875}, {'val_loss': 2834.989013671875}, {'val_loss': 2834.748046875}, {'val_loss': 2834.571533203125}, {'val_loss': 2835.040283203125}, {'val_loss': 2834.802734375}, {'val_loss': 2834.177001953125}, {'val_loss': 2833.591064453125}, {'val_loss': 2833.739501953125}, {'val_loss': 2833.704833984375}, {'val_loss': 2834.329345703125}, {'val_loss': 2834.317138671875}, {'val_loss': 2834.864501953125}, {'val_loss': 2835.205322265625}, {'val_loss': 2834.635986328125}, {'val_loss': 2834.298828125}, {'val_loss': 2834.110107421875}, {'val_loss': 2834.532958984375}, {'val_loss': 2833.8857421875}, {'val_loss': 2834.2529296875}, {'val_loss': 2834.031982421875}, {'val_loss': 2834.070068359375}, {'val_loss': 2834.075439453125}, {'val_loss': 2833.304443359375}, {'val_loss': 2833.608642578125}, {'val_loss': 2833.920654296875}, {'val_loss': 2834.030517578125}, {'val_loss': 2833.199951171875}, {'val_loss': 2833.1962890625}, {'val_loss': 2832.801513671875}, {'val_loss': 2833.730224609375}, {'val_loss': 2833.553955078125}, {'val_loss': 2833.800537109375}, {'val_loss': 2833.11328125}, {'val_loss': 2833.1826171875}, {'val_loss': 2832.725830078125}, {'val_loss': 2832.713623046875}, {'val_loss': 2832.722412109375}, {'val_loss': 2833.28515625}, {'val_loss': 2833.5263671875}, {'val_loss': 2832.9443359375}, {'val_loss': 2833.05859375}, {'val_loss': 2832.296142578125}, {'val_loss': 2833.042724609375}, {'val_loss': 2832.2734375}, {'val_loss': 2832.370849609375}, {'val_loss': 2832.0732421875}, {'val_loss': 2832.146484375}, {'val_loss': 2832.613525390625}, {'val_loss': 2832.804931640625}, {'val_loss': 2832.744140625}, {'val_loss': 2832.515869140625}, {'val_loss': 2832.580810546875}, {'val_loss': 2832.235107421875}, {'val_loss': 2832.140625}, {'val_loss': 2832.203857421875}, {'val_loss': 2832.109619140625}, {'val_loss': 2832.167236328125}, {'val_loss': 2831.7548828125}, {'val_loss': 2832.153076171875}, {'val_loss': 2832.1103515625}, {'val_loss': 2832.070556640625}, {'val_loss': 2831.4619140625}, {'val_loss': 2831.6337890625}, {'val_loss': 2831.554931640625}, {'val_loss': 2832.259521484375}, {'val_loss': 2832.908447265625}, {'val_loss': 2833.2744140625}, {'val_loss': 2832.163330078125}, {'val_loss': 2831.790283203125}, {'val_loss': 2831.851806640625}, {'val_loss': 2831.3818359375}, {'val_loss': 2831.402099609375}, {'val_loss': 2831.201171875}, {'val_loss': 2830.746826171875}, {'val_loss': 2831.406982421875}, {'val_loss': 2831.64453125}, {'val_loss': 2831.332275390625}, {'val_loss': 2831.76953125}, {'val_loss': 2831.020751953125}, {'val_loss': 2830.896240234375}, {'val_loss': 2831.564453125}, {'val_loss': 2831.595703125}, {'val_loss': 2831.495361328125}, {'val_loss': 2831.787841796875}, {'val_loss': 2831.542236328125}, {'val_loss': 2831.3994140625}, {'val_loss': 2831.274169921875}, {'val_loss': 2832.222412109375}, {'val_loss': 2831.768798828125}, {'val_loss': 2831.448974609375}, {'val_loss': 2831.6484375}, {'val_loss': 2831.33203125}, {'val_loss': 2830.975830078125}, {'val_loss': 2830.6806640625}, {'val_loss': 2830.998779296875}, {'val_loss': 2831.528076171875}, {'val_loss': 2831.1806640625}, {'val_loss': 2832.458984375}, {'val_loss': 2831.201416015625}, {'val_loss': 2831.0712890625}, {'val_loss': 2830.880615234375}, {'val_loss': 2831.3798828125}, {'val_loss': 2829.989501953125}, {'val_loss': 2829.978271484375}, {'val_loss': 2830.58203125}, {'val_loss': 2830.768310546875}, {'val_loss': 2831.074462890625}, {'val_loss': 2830.803466796875}, {'val_loss': 2830.7626953125}, {'val_loss': 2831.173828125}, {'val_loss': 2831.083251953125}, {'val_loss': 2829.9677734375}, {'val_loss': 2829.748291015625}, {'val_loss': 2830.080810546875}, {'val_loss': 2830.268798828125}, {'val_loss': 2830.98046875}, {'val_loss': 2831.017578125}, {'val_loss': 2830.507080078125}, {'val_loss': 2830.08984375}, {'val_loss': 2830.543701171875}, {'val_loss': 2829.7763671875}, {'val_loss': 2830.460205078125}, {'val_loss': 2829.3310546875}, {'val_loss': 2829.517578125}, {'val_loss': 2830.1826171875}, {'val_loss': 2830.460693359375}, {'val_loss': 2829.999267578125}, {'val_loss': 2830.00390625}, {'val_loss': 2830.30859375}, {'val_loss': 2829.781982421875}, {'val_loss': 2829.676025390625}, {'val_loss': 2829.3876953125}, {'val_loss': 2829.333740234375}, {'val_loss': 2829.574951171875}, {'val_loss': 2829.156982421875}, {'val_loss': 2829.5283203125}, {'val_loss': 2828.99609375}, {'val_loss': 2828.74609375}, {'val_loss': 2829.311767578125}, {'val_loss': 2829.363037109375}, {'val_loss': 2828.841064453125}, {'val_loss': 2829.5849609375}, {'val_loss': 2829.4755859375}, {'val_loss': 2829.370361328125}, {'val_loss': 2828.810546875}, {'val_loss': 2829.0703125}, {'val_loss': 2829.364501953125}, {'val_loss': 2828.869140625}, {'val_loss': 2829.462646484375}, {'val_loss': 2829.293701171875}, {'val_loss': 2829.117919921875}, {'val_loss': 2829.248046875}, {'val_loss': 2828.8857421875}, {'val_loss': 2829.012451171875}, {'val_loss': 2828.778564453125}, {'val_loss': 2828.685791015625}, {'val_loss': 2828.501953125}, {'val_loss': 2828.3857421875}, {'val_loss': 2827.971435546875}, {'val_loss': 2828.406982421875}, {'val_loss': 2828.701904296875}, {'val_loss': 2829.0771484375}, {'val_loss': 2828.764404296875}, {'val_loss': 2828.942626953125}, {'val_loss': 2828.291015625}, {'val_loss': 2828.511474609375}, {'val_loss': 2828.840087890625}, {'val_loss': 2828.604736328125}, {'val_loss': 2828.5869140625}, {'val_loss': 2827.860107421875}, {'val_loss': 2828.009521484375}, {'val_loss': 2827.9677734375}, {'val_loss': 2827.9033203125}, {'val_loss': 2827.93359375}, {'val_loss': 2828.512451171875}, {'val_loss': 2828.198486328125}, {'val_loss': 2827.5048828125}, {'val_loss': 2827.513427734375}, {'val_loss': 2827.7587890625}, {'val_loss': 2827.219482421875}, {'val_loss': 2827.707275390625}, {'val_loss': 2827.825927734375}, {'val_loss': 2827.705810546875}, {'val_loss': 2828.194091796875}, {'val_loss': 2828.055419921875}, {'val_loss': 2828.20703125}, {'val_loss': 2827.8095703125}, {'val_loss': 2828.147216796875}, {'val_loss': 2827.772705078125}, {'val_loss': 2827.794921875}, {'val_loss': 2827.044189453125}, {'val_loss': 2827.220703125}, {'val_loss': 2826.78515625}, {'val_loss': 2827.384521484375}, {'val_loss': 2827.142822265625}, {'val_loss': 2827.504150390625}, {'val_loss': 2826.976806640625}, {'val_loss': 2827.26171875}, {'val_loss': 2827.457275390625}, {'val_loss': 2827.587158203125}, {'val_loss': 2828.076171875}, {'val_loss': 2827.785888671875}, {'val_loss': 2827.367431640625}, {'val_loss': 2826.831298828125}, {'val_loss': 2827.378662109375}, {'val_loss': 2827.0654296875}, {'val_loss': 2827.224609375}, {'val_loss': 2827.191162109375}, {'val_loss': 2827.56640625}, {'val_loss': 2827.595947265625}, {'val_loss': 2827.640625}, {'val_loss': 2826.676513671875}, {'val_loss': 2826.9599609375}, {'val_loss': 2826.501220703125}, {'val_loss': 2826.668701171875}, {'val_loss': 2827.234619140625}, {'val_loss': 2826.62890625}, {'val_loss': 2826.8603515625}, {'val_loss': 2826.68359375}, {'val_loss': 2826.92578125}, {'val_loss': 2827.222412109375}, {'val_loss': 2827.0537109375}, {'val_loss': 2827.105224609375}, {'val_loss': 2826.427490234375}, {'val_loss': 2826.9462890625}, {'val_loss': 2826.190673828125}, {'val_loss': 2826.820068359375}, {'val_loss': 2826.864990234375}, {'val_loss': 2826.7431640625}, {'val_loss': 2826.374755859375}, {'val_loss': 2826.567626953125}, {'val_loss': 2826.37109375}, {'val_loss': 2825.8046875}, {'val_loss': 2825.8701171875}, {'val_loss': 2826.483154296875}, {'val_loss': 2825.560791015625}, {'val_loss': 2825.217041015625}, {'val_loss': 2825.135986328125}, {'val_loss': 2827.036376953125}, {'val_loss': 2827.015625}, {'val_loss': 2826.231201171875}, {'val_loss': 2825.990234375}, {'val_loss': 2825.450439453125}, {'val_loss': 2825.719482421875}, {'val_loss': 2826.339599609375}, {'val_loss': 2825.560546875}, {'val_loss': 2825.511474609375}, {'val_loss': 2825.190673828125}, {'val_loss': 2825.638916015625}, {'val_loss': 2825.236572265625}, {'val_loss': 2825.340576171875}, {'val_loss': 2824.736083984375}, {'val_loss': 2824.847412109375}, {'val_loss': 2825.4365234375}, {'val_loss': 2825.587890625}, {'val_loss': 2824.891357421875}, {'val_loss': 2824.904541015625}, {'val_loss': 2825.042236328125}, {'val_loss': 2824.473388671875}, {'val_loss': 2824.490234375}, {'val_loss': 2824.521728515625}, {'val_loss': 2824.5498046875}, {'val_loss': 2824.483642578125}, {'val_loss': 2824.750244140625}, {'val_loss': 2824.955810546875}, {'val_loss': 2824.6572265625}, {'val_loss': 2825.462158203125}, {'val_loss': 2825.064453125}, {'val_loss': 2824.821044921875}, {'val_loss': 2824.8466796875}, {'val_loss': 2825.247314453125}, {'val_loss': 2824.875732421875}, {'val_loss': 2824.584716796875}, {'val_loss': 2824.4794921875}, {'val_loss': 2824.806884765625}, {'val_loss': 2824.569580078125}, {'val_loss': 2824.54296875}, {'val_loss': 2824.565673828125}, {'val_loss': 2824.606689453125}, {'val_loss': 2824.9638671875}, {'val_loss': 2824.194091796875}, {'val_loss': 2824.296630859375}, {'val_loss': 2824.281494140625}, {'val_loss': 2823.993408203125}, {'val_loss': 2823.132080078125}, {'val_loss': 2823.3505859375}, {'val_loss': 2823.599609375}, {'val_loss': 2824.055908203125}, {'val_loss': 2824.538330078125}, {'val_loss': 2824.161865234375}, {'val_loss': 2823.885009765625}, {'val_loss': 2824.378173828125}, {'val_loss': 2823.685302734375}, {'val_loss': 2823.1533203125}, {'val_loss': 2824.168701171875}, {'val_loss': 2823.572998046875}, {'val_loss': 2823.893310546875}, {'val_loss': 2824.371826171875}, {'val_loss': 2823.962158203125}, {'val_loss': 2823.873779296875}, {'val_loss': 2824.252685546875}, {'val_loss': 2823.7275390625}, {'val_loss': 2824.2216796875}, {'val_loss': 2824.43359375}, {'val_loss': 2824.1865234375}, {'val_loss': 2823.483154296875}, {'val_loss': 2823.871337890625}, {'val_loss': 2823.373291015625}, {'val_loss': 2823.345947265625}, {'val_loss': 2823.149169921875}, {'val_loss': 2823.023681640625}, {'val_loss': 2823.540771484375}, {'val_loss': 2823.08984375}, {'val_loss': 2823.73046875}, {'val_loss': 2823.894775390625}, {'val_loss': 2823.380126953125}, {'val_loss': 2823.9853515625}, {'val_loss': 2823.470458984375}, {'val_loss': 2823.212158203125}, {'val_loss': 2823.5537109375}, {'val_loss': 2823.128662109375}, {'val_loss': 2823.101318359375}, {'val_loss': 2822.794677734375}, {'val_loss': 2822.572998046875}, {'val_loss': 2823.013671875}, {'val_loss': 2822.6396484375}, {'val_loss': 2822.3056640625}, {'val_loss': 2822.7353515625}, {'val_loss': 2823.202880859375}, {'val_loss': 2823.197998046875}, {'val_loss': 2823.379150390625}, {'val_loss': 2822.551513671875}, {'val_loss': 2822.483642578125}, {'val_loss': 2822.464111328125}, {'val_loss': 2821.952392578125}, {'val_loss': 2822.701904296875}, {'val_loss': 2822.367431640625}, {'val_loss': 2821.888916015625}, {'val_loss': 2822.510009765625}, {'val_loss': 2822.760986328125}, {'val_loss': 2822.197998046875}, {'val_loss': 2822.182373046875}, {'val_loss': 2822.271240234375}, {'val_loss': 2821.990966796875}, {'val_loss': 2821.4072265625}, {'val_loss': 2821.609375}, {'val_loss': 2821.7138671875}, {'val_loss': 2822.822998046875}, {'val_loss': 2822.6787109375}, {'val_loss': 2821.94140625}, {'val_loss': 2822.3017578125}, {'val_loss': 2821.984375}, {'val_loss': 2821.7041015625}, {'val_loss': 2822.098876953125}, {'val_loss': 2822.0068359375}, {'val_loss': 2821.9990234375}, {'val_loss': 2821.855224609375}, {'val_loss': 2821.612548828125}, {'val_loss': 2822.120849609375}, {'val_loss': 2822.0810546875}, {'val_loss': 2823.426513671875}, {'val_loss': 2822.5546875}, {'val_loss': 2822.416259765625}, {'val_loss': 2822.133544921875}, {'val_loss': 2822.16796875}, {'val_loss': 2822.0107421875}, {'val_loss': 2821.390380859375}, {'val_loss': 2822.1376953125}, {'val_loss': 2821.451416015625}, {'val_loss': 2822.0263671875}, {'val_loss': 2822.607666015625}, {'val_loss': 2822.148193359375}, {'val_loss': 2822.282958984375}, {'val_loss': 2822.037109375}, {'val_loss': 2821.653564453125}, {'val_loss': 2821.655517578125}, {'val_loss': 2821.055908203125}, {'val_loss': 2821.427490234375}, {'val_loss': 2821.242919921875}, {'val_loss': 2821.6240234375}, {'val_loss': 2820.658203125}, {'val_loss': 2820.903076171875}, {'val_loss': 2821.809326171875}, {'val_loss': 2821.1357421875}, {'val_loss': 2821.122314453125}, {'val_loss': 2821.12109375}, {'val_loss': 2821.9658203125}, {'val_loss': 2822.08203125}, {'val_loss': 2821.3330078125}, {'val_loss': 2821.251953125}, {'val_loss': 2821.23046875}, {'val_loss': 2821.177001953125}, {'val_loss': 2821.129150390625}, {'val_loss': 2821.108642578125}, {'val_loss': 2821.104736328125}, {'val_loss': 2821.117919921875}, {'val_loss': 2821.127685546875}, {'val_loss': 2821.102294921875}, {'val_loss': 2821.095703125}, {'val_loss': 2821.0673828125}, {'val_loss': 2821.0458984375}, {'val_loss': 2821.048828125}, {'val_loss': 2821.019775390625}, {'val_loss': 2821.036865234375}, {'val_loss': 2821.050537109375}, {'val_loss': 2821.058349609375}, {'val_loss': 2821.0625}, {'val_loss': 2821.041748046875}, {'val_loss': 2821.025390625}, {'val_loss': 2821.045166015625}, {'val_loss': 2821.033935546875}, {'val_loss': 2821.070068359375}, {'val_loss': 2821.078857421875}, {'val_loss': 2821.0576171875}, {'val_loss': 2821.047119140625}, {'val_loss': 2821.071533203125}, {'val_loss': 2821.052001953125}, {'val_loss': 2821.05078125}, {'val_loss': 2821.025634765625}, {'val_loss': 2821.0361328125}, {'val_loss': 2821.059326171875}, {'val_loss': 2821.036376953125}, {'val_loss': 2821.0517578125}, {'val_loss': 2821.031005859375}, {'val_loss': 2821.022705078125}, {'val_loss': 2821.039306640625}, {'val_loss': 2821.0234375}, {'val_loss': 2821.05859375}, {'val_loss': 2821.04296875}, {'val_loss': 2821.049560546875}, {'val_loss': 2821.062255859375}, {'val_loss': 2821.035400390625}, {'val_loss': 2821.015380859375}, {'val_loss': 2821.0302734375}, {'val_loss': 2821.021240234375}, {'val_loss': 2821.0205078125}, {'val_loss': 2821.040771484375}, {'val_loss': 2821.033203125}, {'val_loss': 2821.036376953125}, {'val_loss': 2821.052734375}, {'val_loss': 2821.042724609375}, {'val_loss': 2821.023193359375}, {'val_loss': 2820.994140625}, {'val_loss': 2821.010498046875}, {'val_loss': 2820.991455078125}, {'val_loss': 2821.017578125}, {'val_loss': 2820.987548828125}, {'val_loss': 2821.001953125}, {'val_loss': 2820.982421875}, {'val_loss': 2820.996337890625}, {'val_loss': 2820.982421875}, {'val_loss': 2820.978271484375}, {'val_loss': 2820.935546875}, {'val_loss': 2820.947021484375}, {'val_loss': 2820.947265625}, {'val_loss': 2820.931884765625}, {'val_loss': 2820.962158203125}, {'val_loss': 2820.9375}, {'val_loss': 2820.956298828125}, {'val_loss': 2820.954345703125}, {'val_loss': 2820.9833984375}, {'val_loss': 2820.9755859375}, {'val_loss': 2820.976318359375}, {'val_loss': 2820.979736328125}, {'val_loss': 2820.9345703125}, {'val_loss': 2820.898193359375}, {'val_loss': 2820.916748046875}, {'val_loss': 2820.931884765625}, {'val_loss': 2820.955078125}, {'val_loss': 2820.943359375}, {'val_loss': 2820.953857421875}, {'val_loss': 2820.931640625}, {'val_loss': 2820.978515625}, {'val_loss': 2820.961669921875}, {'val_loss': 2820.9541015625}, {'val_loss': 2820.958251953125}, {'val_loss': 2820.957275390625}, {'val_loss': 2820.9609375}, {'val_loss': 2820.9365234375}, {'val_loss': 2820.905517578125}, {'val_loss': 2820.895263671875}, {'val_loss': 2820.866943359375}, {'val_loss': 2820.873046875}, {'val_loss': 2820.8935546875}, {'val_loss': 2820.890380859375}, {'val_loss': 2820.916015625}, {'val_loss': 2820.846435546875}, {'val_loss': 2820.8564453125}, {'val_loss': 2820.866455078125}, {'val_loss': 2820.870361328125}, {'val_loss': 2820.841064453125}, {'val_loss': 2820.843994140625}, {'val_loss': 2820.84765625}, {'val_loss': 2820.83984375}, {'val_loss': 2820.825927734375}, {'val_loss': 2820.848388671875}, {'val_loss': 2820.8740234375}, {'val_loss': 2820.8857421875}, {'val_loss': 2820.887939453125}, {'val_loss': 2820.8984375}, {'val_loss': 2820.9091796875}, {'val_loss': 2820.871337890625}, {'val_loss': 2820.841796875}, {'val_loss': 2820.857666015625}, {'val_loss': 2820.802734375}, {'val_loss': 2820.806884765625}, {'val_loss': 2820.816650390625}, {'val_loss': 2820.841796875}, {'val_loss': 2820.872802734375}, {'val_loss': 2820.8408203125}, {'val_loss': 2820.8388671875}, {'val_loss': 2820.842529296875}, {'val_loss': 2820.878173828125}, {'val_loss': 2820.857666015625}, {'val_loss': 2820.85546875}, {'val_loss': 2820.858642578125}, {'val_loss': 2820.833740234375}, {'val_loss': 2820.795654296875}, {'val_loss': 2820.811767578125}, {'val_loss': 2820.828369140625}, {'val_loss': 2820.819091796875}, {'val_loss': 2820.833740234375}, {'val_loss': 2820.856689453125}, {'val_loss': 2820.832763671875}, {'val_loss': 2820.797119140625}, {'val_loss': 2820.782470703125}, {'val_loss': 2820.7734375}, {'val_loss': 2820.795166015625}, {'val_loss': 2820.812255859375}, {'val_loss': 2820.807861328125}, {'val_loss': 2820.804931640625}, {'val_loss': 2820.802734375}, {'val_loss': 2820.802734375}, {'val_loss': 2820.733154296875}, {'val_loss': 2820.73828125}, {'val_loss': 2820.75}, {'val_loss': 2820.725830078125}, {'val_loss': 2820.74609375}, {'val_loss': 2820.744873046875}, {'val_loss': 2820.760009765625}, {'val_loss': 2820.775390625}, {'val_loss': 2820.784423828125}, {'val_loss': 2820.8037109375}, {'val_loss': 2820.808837890625}, {'val_loss': 2820.766357421875}, {'val_loss': 2820.768310546875}, {'val_loss': 2820.741455078125}, {'val_loss': 2820.756103515625}, {'val_loss': 2820.767578125}, {'val_loss': 2820.764404296875}, {'val_loss': 2820.7734375}, {'val_loss': 2820.793701171875}, {'val_loss': 2820.783935546875}, {'val_loss': 2820.80859375}, {'val_loss': 2820.810791015625}, {'val_loss': 2820.780517578125}, {'val_loss': 2820.785888671875}, {'val_loss': 2820.805419921875}, {'val_loss': 2820.806396484375}, {'val_loss': 2820.801513671875}, {'val_loss': 2820.751708984375}, {'val_loss': 2820.7607421875}, {'val_loss': 2820.7734375}, {'val_loss': 2820.755615234375}, {'val_loss': 2820.740966796875}, {'val_loss': 2820.7724609375}, {'val_loss': 2820.721923828125}, {'val_loss': 2820.730712890625}, {'val_loss': 2820.738037109375}, {'val_loss': 2820.697509765625}, {'val_loss': 2820.682373046875}, {'val_loss': 2820.671630859375}, {'val_loss': 2820.687744140625}, {'val_loss': 2820.707763671875}, {'val_loss': 2820.712890625}, {'val_loss': 2820.743896484375}, {'val_loss': 2820.680419921875}, {'val_loss': 2820.672119140625}, {'val_loss': 2820.626953125}, {'val_loss': 2820.641845703125}, {'val_loss': 2820.6552734375}, {'val_loss': 2820.677978515625}, {'val_loss': 2820.666015625}, {'val_loss': 2820.694091796875}, {'val_loss': 2820.690185546875}, {'val_loss': 2820.66796875}, {'val_loss': 2820.674560546875}, {'val_loss': 2820.659912109375}, {'val_loss': 2820.6376953125}, {'val_loss': 2820.641357421875}, {'val_loss': 2820.633544921875}, {'val_loss': 2820.634765625}, {'val_loss': 2820.6552734375}, {'val_loss': 2820.659912109375}, {'val_loss': 2820.659423828125}, {'val_loss': 2820.634765625}, {'val_loss': 2820.615966796875}, {'val_loss': 2820.605224609375}, {'val_loss': 2820.62109375}, {'val_loss': 2820.649169921875}, {'val_loss': 2820.653564453125}, {'val_loss': 2820.665283203125}, {'val_loss': 2820.636474609375}, {'val_loss': 2820.60546875}, {'val_loss': 2820.628173828125}, {'val_loss': 2820.623291015625}, {'val_loss': 2820.628662109375}, {'val_loss': 2820.639892578125}, {'val_loss': 2820.630859375}, {'val_loss': 2820.637939453125}, {'val_loss': 2820.625244140625}, {'val_loss': 2820.616943359375}, {'val_loss': 2820.618408203125}, {'val_loss': 2820.606689453125}, {'val_loss': 2820.607666015625}, {'val_loss': 2820.607421875}, {'val_loss': 2820.64453125}, {'val_loss': 2820.640625}, {'val_loss': 2820.646240234375}, {'val_loss': 2820.6181640625}, {'val_loss': 2820.591796875}, {'val_loss': 2820.610107421875}, {'val_loss': 2820.582275390625}, {'val_loss': 2820.6025390625}, {'val_loss': 2820.583251953125}, {'val_loss': 2820.579833984375}, {'val_loss': 2820.545654296875}, {'val_loss': 2820.552734375}, {'val_loss': 2820.553466796875}, {'val_loss': 2820.572509765625}, {'val_loss': 2820.576171875}, {'val_loss': 2820.593017578125}, {'val_loss': 2820.587890625}, {'val_loss': 2820.575927734375}, {'val_loss': 2820.578125}, {'val_loss': 2820.571044921875}, {'val_loss': 2820.5498046875}, {'val_loss': 2820.5634765625}, {'val_loss': 2820.579345703125}, {'val_loss': 2820.567138671875}, {'val_loss': 2820.538330078125}, {'val_loss': 2820.51953125}, {'val_loss': 2820.552978515625}, {'val_loss': 2820.5498046875}, {'val_loss': 2820.534912109375}, {'val_loss': 2820.543701171875}, {'val_loss': 2820.495849609375}, {'val_loss': 2820.516845703125}, {'val_loss': 2820.522705078125}, {'val_loss': 2820.447265625}, {'val_loss': 2820.465087890625}, {'val_loss': 2820.473876953125}, {'val_loss': 2820.4833984375}, {'val_loss': 2820.505615234375}, {'val_loss': 2820.5302734375}, {'val_loss': 2820.538330078125}, {'val_loss': 2820.551025390625}, {'val_loss': 2820.554443359375}, {'val_loss': 2820.535400390625}, {'val_loss': 2820.518798828125}, {'val_loss': 2820.506103515625}, {'val_loss': 2820.4814453125}, {'val_loss': 2820.466796875}, {'val_loss': 2820.465576171875}, {'val_loss': 2820.453125}, {'val_loss': 2820.429443359375}, {'val_loss': 2820.433837890625}, {'val_loss': 2820.461669921875}, {'val_loss': 2820.455078125}, {'val_loss': 2820.460205078125}, {'val_loss': 2820.46484375}, {'val_loss': 2820.473876953125}, {'val_loss': 2820.463623046875}, {'val_loss': 2820.453857421875}, {'val_loss': 2820.488037109375}, {'val_loss': 2820.48046875}, {'val_loss': 2820.4658203125}, {'val_loss': 2820.455810546875}, {'val_loss': 2820.461669921875}, {'val_loss': 2820.489501953125}, {'val_loss': 2820.464599609375}, {'val_loss': 2820.468505859375}, {'val_loss': 2820.4541015625}, {'val_loss': 2820.437744140625}, {'val_loss': 2820.414794921875}, {'val_loss': 2820.417724609375}, {'val_loss': 2820.403564453125}, {'val_loss': 2820.386962890625}, {'val_loss': 2820.367431640625}, {'val_loss': 2820.34765625}, {'val_loss': 2820.366943359375}, {'val_loss': 2820.364013671875}, {'val_loss': 2820.359130859375}, {'val_loss': 2820.379150390625}, {'val_loss': 2820.407958984375}, {'val_loss': 2820.417724609375}, {'val_loss': 2820.396728515625}, {'val_loss': 2820.398193359375}, {'val_loss': 2820.4228515625}, {'val_loss': 2820.392333984375}, {'val_loss': 2820.375732421875}, {'val_loss': 2820.373046875}, {'val_loss': 2820.348876953125}, {'val_loss': 2820.348388671875}, {'val_loss': 2820.354248046875}, {'val_loss': 2820.350341796875}, {'val_loss': 2820.352783203125}, {'val_loss': 2820.34375}, {'val_loss': 2820.380126953125}, {'val_loss': 2820.384033203125}, {'val_loss': 2820.379638671875}, {'val_loss': 2820.3671875}, {'val_loss': 2820.361328125}, {'val_loss': 2820.34765625}, {'val_loss': 2820.347900390625}, {'val_loss': 2820.325439453125}, {'val_loss': 2820.335693359375}, {'val_loss': 2820.330810546875}, {'val_loss': 2820.331787109375}, {'val_loss': 2820.333251953125}, {'val_loss': 2820.340576171875}, {'val_loss': 2820.352783203125}, {'val_loss': 2820.352294921875}, {'val_loss': 2820.355224609375}, {'val_loss': 2820.341796875}, {'val_loss': 2820.333251953125}, {'val_loss': 2820.315673828125}, {'val_loss': 2820.294921875}, {'val_loss': 2820.279296875}, {'val_loss': 2820.27734375}, {'val_loss': 2820.287353515625}, {'val_loss': 2820.262451171875}, {'val_loss': 2820.257568359375}, {'val_loss': 2820.275146484375}, {'val_loss': 2820.2470703125}, {'val_loss': 2820.2333984375}, {'val_loss': 2820.253173828125}, {'val_loss': 2820.253173828125}, {'val_loss': 2820.249267578125}, {'val_loss': 2820.283203125}, {'val_loss': 2820.280029296875}, {'val_loss': 2820.25390625}, {'val_loss': 2820.222412109375}, {'val_loss': 2820.237060546875}, {'val_loss': 2820.2431640625}, {'val_loss': 2820.2080078125}, {'val_loss': 2820.203857421875}, {'val_loss': 2820.190185546875}, {'val_loss': 2820.1787109375}, {'val_loss': 2820.214599609375}, {'val_loss': 2820.2041015625}, {'val_loss': 2820.2109375}, {'val_loss': 2820.216064453125}, {'val_loss': 2820.185302734375}, {'val_loss': 2820.162353515625}, {'val_loss': 2820.140869140625}, {'val_loss': 2820.140625}, {'val_loss': 2820.129638671875}, {'val_loss': 2820.151123046875}, {'val_loss': 2820.16796875}, {'val_loss': 2820.15625}, {'val_loss': 2820.143310546875}, {'val_loss': 2820.169921875}, {'val_loss': 2820.144775390625}, {'val_loss': 2820.173828125}, {'val_loss': 2820.172607421875}, {'val_loss': 2820.161376953125}, {'val_loss': 2820.1708984375}, {'val_loss': 2820.1728515625}, {'val_loss': 2820.153564453125}, {'val_loss': 2820.169677734375}, {'val_loss': 2820.172119140625}, {'val_loss': 2820.146240234375}, {'val_loss': 2820.163818359375}, {'val_loss': 2820.154296875}, {'val_loss': 2820.152099609375}, {'val_loss': 2820.148681640625}, {'val_loss': 2820.1337890625}, {'val_loss': 2820.127197265625}, {'val_loss': 2820.114013671875}, {'val_loss': 2820.103515625}, {'val_loss': 2820.128173828125}, {'val_loss': 2820.102783203125}, {'val_loss': 2820.079345703125}, {'val_loss': 2820.053466796875}, {'val_loss': 2820.052734375}, {'val_loss': 2820.091064453125}, {'val_loss': 2820.086669921875}, {'val_loss': 2820.066162109375}, {'val_loss': 2820.074462890625}, {'val_loss': 2820.085693359375}, {'val_loss': 2820.072021484375}, {'val_loss': 2820.076904296875}, {'val_loss': 2820.062744140625}, {'val_loss': 2820.0537109375}, {'val_loss': 2820.032470703125}, {'val_loss': 2820.0185546875}, {'val_loss': 2820.025634765625}, {'val_loss': 2820.035888671875}, {'val_loss': 2820.030029296875}, {'val_loss': 2820.016357421875}, {'val_loss': 2820.031982421875}, {'val_loss': 2820.009765625}, {'val_loss': 2819.9921875}, {'val_loss': 2819.977783203125}, {'val_loss': 2819.980712890625}, {'val_loss': 2819.977294921875}, {'val_loss': 2820.003173828125}, {'val_loss': 2820.012939453125}, {'val_loss': 2820.003662109375}, {'val_loss': 2820.0029296875}, {'val_loss': 2819.989013671875}, {'val_loss': 2819.9677734375}, {'val_loss': 2819.986572265625}, {'val_loss': 2819.974365234375}, {'val_loss': 2819.9736328125}, {'val_loss': 2819.984130859375}, {'val_loss': 2819.989990234375}, {'val_loss': 2820.000732421875}, {'val_loss': 2820.030517578125}, {'val_loss': 2820.0302734375}, {'val_loss': 2820.0234375}, {'val_loss': 2820.03125}, {'val_loss': 2820.0068359375}, {'val_loss': 2819.979736328125}, {'val_loss': 2819.9873046875}, {'val_loss': 2819.9892578125}, {'val_loss': 2819.955078125}, {'val_loss': 2819.944091796875}, {'val_loss': 2819.930419921875}, {'val_loss': 2819.967041015625}, {'val_loss': 2819.9404296875}, {'val_loss': 2819.957763671875}, {'val_loss': 2819.954345703125}, {'val_loss': 2819.953125}, {'val_loss': 2819.931884765625}, {'val_loss': 2819.921875}, {'val_loss': 2819.917724609375}, {'val_loss': 2819.934814453125}, {'val_loss': 2819.9169921875}, {'val_loss': 2819.933837890625}, {'val_loss': 2819.917724609375}, {'val_loss': 2819.937255859375}, {'val_loss': 2819.921875}, {'val_loss': 2819.925048828125}, {'val_loss': 2819.931884765625}, {'val_loss': 2819.913330078125}, {'val_loss': 2819.890869140625}, {'val_loss': 2819.910400390625}, {'val_loss': 2819.886474609375}, {'val_loss': 2819.875244140625}, {'val_loss': 2819.903564453125}, {'val_loss': 2819.883544921875}, {'val_loss': 2819.861572265625}, {'val_loss': 2819.841796875}, {'val_loss': 2819.819580078125}, {'val_loss': 2819.822509765625}, {'val_loss': 2819.807861328125}, {'val_loss': 2819.821533203125}, {'val_loss': 2819.806884765625}, {'val_loss': 2819.802001953125}, {'val_loss': 2819.840576171875}, {'val_loss': 2819.809326171875}, {'val_loss': 2819.790283203125}, {'val_loss': 2819.803466796875}, {'val_loss': 2819.780029296875}, {'val_loss': 2819.789794921875}, {'val_loss': 2819.7802734375}, {'val_loss': 2819.798095703125}, {'val_loss': 2819.806396484375}, {'val_loss': 2819.839111328125}, {'val_loss': 2819.853515625}, {'val_loss': 2819.841796875}, {'val_loss': 2819.825439453125}, {'val_loss': 2819.850341796875}, {'val_loss': 2819.8271484375}, {'val_loss': 2819.842529296875}, {'val_loss': 2819.812255859375}, {'val_loss': 2819.790771484375}, {'val_loss': 2819.818115234375}, {'val_loss': 2819.808349609375}, {'val_loss': 2819.7861328125}, {'val_loss': 2819.771728515625}, {'val_loss': 2819.7900390625}, {'val_loss': 2819.786376953125}, {'val_loss': 2819.77734375}, {'val_loss': 2819.763671875}, {'val_loss': 2819.740966796875}, {'val_loss': 2819.721923828125}, {'val_loss': 2819.737060546875}, {'val_loss': 2819.724609375}, {'val_loss': 2819.707763671875}, {'val_loss': 2819.7109375}, {'val_loss': 2819.744384765625}, {'val_loss': 2819.748046875}, {'val_loss': 2819.778564453125}, {'val_loss': 2819.759033203125}, {'val_loss': 2819.754638671875}, {'val_loss': 2819.783935546875}, {'val_loss': 2819.758544921875}, {'val_loss': 2819.75390625}, {'val_loss': 2819.7236328125}, {'val_loss': 2819.7509765625}, {'val_loss': 2819.732177734375}, {'val_loss': 2819.72265625}, {'val_loss': 2819.739501953125}, {'val_loss': 2819.788330078125}, {'val_loss': 2819.785888671875}, {'val_loss': 2819.805419921875}, {'val_loss': 2819.796875}, {'val_loss': 2819.8046875}, {'val_loss': 2819.7998046875}, {'val_loss': 2819.791748046875}, {'val_loss': 2819.800537109375}, {'val_loss': 2819.788330078125}, {'val_loss': 2819.774658203125}, {'val_loss': 2819.743408203125}, {'val_loss': 2819.775390625}, {'val_loss': 2819.76171875}, {'val_loss': 2819.732421875}, {'val_loss': 2819.707275390625}, {'val_loss': 2819.739013671875}, {'val_loss': 2819.73828125}, {'val_loss': 2819.7041015625}, {'val_loss': 2819.67578125}, {'val_loss': 2819.664306640625}, {'val_loss': 2819.6728515625}, {'val_loss': 2819.6396484375}, {'val_loss': 2819.631591796875}, {'val_loss': 2819.61328125}, {'val_loss': 2819.597900390625}, {'val_loss': 2819.59765625}, {'val_loss': 2819.605224609375}, {'val_loss': 2819.625244140625}, {'val_loss': 2819.6728515625}, {'val_loss': 2819.660888671875}, {'val_loss': 2819.659912109375}, {'val_loss': 2819.635498046875}, {'val_loss': 2819.637939453125}, {'val_loss': 2819.621337890625}, {'val_loss': 2819.619873046875}, {'val_loss': 2819.607421875}, {'val_loss': 2819.623779296875}, {'val_loss': 2819.616455078125}, {'val_loss': 2819.618408203125}, {'val_loss': 2819.61328125}, {'val_loss': 2819.600341796875}, {'val_loss': 2819.583740234375}, {'val_loss': 2819.578857421875}, {'val_loss': 2819.573974609375}, {'val_loss': 2819.5771484375}, {'val_loss': 2819.558349609375}, {'val_loss': 2819.54296875}, {'val_loss': 2819.563720703125}, {'val_loss': 2819.544921875}, {'val_loss': 2819.563720703125}, {'val_loss': 2819.548095703125}, {'val_loss': 2819.557373046875}, {'val_loss': 2819.545654296875}, {'val_loss': 2819.511474609375}, {'val_loss': 2819.498046875}, {'val_loss': 2819.502685546875}, {'val_loss': 2819.510498046875}, {'val_loss': 2819.510986328125}, {'val_loss': 2819.528076171875}, {'val_loss': 2819.581787109375}, {'val_loss': 2819.580322265625}, {'val_loss': 2819.57421875}, {'val_loss': 2819.574462890625}, {'val_loss': 2819.548095703125}, {'val_loss': 2819.561767578125}, {'val_loss': 2819.546630859375}, {'val_loss': 2819.533203125}, {'val_loss': 2819.531982421875}, {'val_loss': 2819.535400390625}, {'val_loss': 2819.505126953125}, {'val_loss': 2819.491943359375}, {'val_loss': 2819.538818359375}, {'val_loss': 2819.533203125}, {'val_loss': 2819.513916015625}, {'val_loss': 2819.546630859375}, {'val_loss': 2819.55078125}, {'val_loss': 2819.5361328125}, {'val_loss': 2819.512939453125}, {'val_loss': 2819.500732421875}, {'val_loss': 2819.476318359375}, {'val_loss': 2819.45703125}, {'val_loss': 2819.4619140625}, {'val_loss': 2819.4521484375}, {'val_loss': 2819.477783203125}, {'val_loss': 2819.5146484375}, {'val_loss': 2819.491943359375}, {'val_loss': 2819.480224609375}, {'val_loss': 2819.463623046875}, {'val_loss': 2819.478759765625}, {'val_loss': 2819.458251953125}, {'val_loss': 2819.478271484375}, {'val_loss': 2819.451416015625}, {'val_loss': 2819.4541015625}, {'val_loss': 2819.4404296875}, {'val_loss': 2819.4375}, {'val_loss': 2819.410400390625}, {'val_loss': 2819.421630859375}, {'val_loss': 2819.4248046875}, {'val_loss': 2819.447509765625}, {'val_loss': 2819.430419921875}, {'val_loss': 2819.40625}, {'val_loss': 2819.412353515625}, {'val_loss': 2819.405517578125}, {'val_loss': 2819.397705078125}, {'val_loss': 2819.385498046875}, {'val_loss': 2819.398193359375}, {'val_loss': 2819.376708984375}, {'val_loss': 2819.377685546875}, {'val_loss': 2819.372802734375}, {'val_loss': 2819.388916015625}, {'val_loss': 2819.4033203125}, {'val_loss': 2819.411865234375}, {'val_loss': 2819.40625}, {'val_loss': 2819.386962890625}, {'val_loss': 2819.396484375}, {'val_loss': 2819.390380859375}, {'val_loss': 2819.384765625}, {'val_loss': 2819.397705078125}, {'val_loss': 2819.404296875}, {'val_loss': 2819.427978515625}, {'val_loss': 2819.419189453125}, {'val_loss': 2819.419677734375}, {'val_loss': 2819.418212890625}, {'val_loss': 2819.409912109375}, {'val_loss': 2819.402099609375}, {'val_loss': 2819.390869140625}, {'val_loss': 2819.384765625}, {'val_loss': 2819.372314453125}, {'val_loss': 2819.349609375}, {'val_loss': 2819.348388671875}, {'val_loss': 2819.3564453125}, {'val_loss': 2819.369140625}, {'val_loss': 2819.359619140625}, {'val_loss': 2819.370361328125}, {'val_loss': 2819.353759765625}, {'val_loss': 2819.335693359375}, {'val_loss': 2819.340087890625}, {'val_loss': 2819.351318359375}, {'val_loss': 2819.379150390625}, {'val_loss': 2819.365234375}, {'val_loss': 2819.342529296875}, {'val_loss': 2819.331787109375}, {'val_loss': 2819.310791015625}, {'val_loss': 2819.304931640625}, {'val_loss': 2819.28515625}, {'val_loss': 2819.294189453125}, {'val_loss': 2819.267578125}, {'val_loss': 2819.265869140625}, {'val_loss': 2819.2685546875}, {'val_loss': 2819.252685546875}, {'val_loss': 2819.258544921875}, {'val_loss': 2819.2412109375}, {'val_loss': 2819.267333984375}, {'val_loss': 2819.244873046875}, {'val_loss': 2819.267822265625}, {'val_loss': 2819.28515625}, {'val_loss': 2819.3232421875}, {'val_loss': 2819.326171875}, {'val_loss': 2819.308837890625}, {'val_loss': 2819.310791015625}, {'val_loss': 2819.287841796875}, {'val_loss': 2819.3056640625}, {'val_loss': 2819.302001953125}, {'val_loss': 2819.310546875}, {'val_loss': 2819.308349609375}, {'val_loss': 2819.30078125}, {'val_loss': 2819.2841796875}, {'val_loss': 2819.287109375}, {'val_loss': 2819.269775390625}, {'val_loss': 2819.253662109375}, {'val_loss': 2819.2763671875}, {'val_loss': 2819.263671875}, {'val_loss': 2819.256103515625}, {'val_loss': 2819.234375}, {'val_loss': 2819.251953125}, {'val_loss': 2819.256591796875}, {'val_loss': 2819.258056640625}, {'val_loss': 2819.238037109375}, {'val_loss': 2819.2373046875}, {'val_loss': 2819.245361328125}, {'val_loss': 2819.239501953125}, {'val_loss': 2819.218017578125}, {'val_loss': 2819.219482421875}, {'val_loss': 2819.204345703125}, {'val_loss': 2819.1884765625}, {'val_loss': 2819.163330078125}, {'val_loss': 2819.163818359375}, {'val_loss': 2819.176513671875}, {'val_loss': 2819.1875}, {'val_loss': 2819.178466796875}, {'val_loss': 2819.192626953125}, {'val_loss': 2819.1943359375}, {'val_loss': 2819.164794921875}, {'val_loss': 2819.1533203125}, {'val_loss': 2819.158935546875}, {'val_loss': 2819.166015625}, {'val_loss': 2819.189453125}, {'val_loss': 2819.187744140625}, {'val_loss': 2819.169189453125}, {'val_loss': 2819.180908203125}, {'val_loss': 2819.157470703125}, {'val_loss': 2819.131591796875}, {'val_loss': 2819.16015625}, {'val_loss': 2819.1396484375}, {'val_loss': 2819.156005859375}, {'val_loss': 2819.1298828125}, {'val_loss': 2819.143798828125}, {'val_loss': 2819.140869140625}, {'val_loss': 2819.1416015625}, {'val_loss': 2819.1669921875}, {'val_loss': 2819.140869140625}, {'val_loss': 2819.130615234375}, {'val_loss': 2819.156005859375}, {'val_loss': 2819.177978515625}, {'val_loss': 2819.178466796875}, {'val_loss': 2819.15234375}, {'val_loss': 2819.138671875}, {'val_loss': 2819.131591796875}, {'val_loss': 2819.117431640625}, {'val_loss': 2819.099609375}, {'val_loss': 2819.089111328125}, {'val_loss': 2819.100341796875}, {'val_loss': 2819.07421875}, {'val_loss': 2819.091552734375}, {'val_loss': 2819.084716796875}, {'val_loss': 2819.089111328125}, {'val_loss': 2819.099853515625}, {'val_loss': 2819.105712890625}, {'val_loss': 2819.120849609375}, {'val_loss': 2819.126220703125}, {'val_loss': 2819.103271484375}, {'val_loss': 2819.092529296875}, {'val_loss': 2819.0693359375}, {'val_loss': 2819.0966796875}, {'val_loss': 2819.084228515625}, {'val_loss': 2819.132568359375}, {'val_loss': 2819.108642578125}, {'val_loss': 2819.1220703125}, {'val_loss': 2819.156982421875}, {'val_loss': 2819.150146484375}, {'val_loss': 2819.155029296875}, {'val_loss': 2819.138916015625}, {'val_loss': 2819.115966796875}, {'val_loss': 2819.101318359375}, {'val_loss': 2819.092529296875}, {'val_loss': 2819.1015625}, {'val_loss': 2819.1015625}, {'val_loss': 2819.0986328125}, {'val_loss': 2819.074462890625}, {'val_loss': 2819.083984375}, {'val_loss': 2819.065185546875}, {'val_loss': 2819.036376953125}, {'val_loss': 2819.060791015625}, {'val_loss': 2819.063232421875}, {'val_loss': 2819.082763671875}, {'val_loss': 2819.080810546875}, {'val_loss': 2819.0703125}, {'val_loss': 2819.089599609375}, {'val_loss': 2819.078125}, {'val_loss': 2819.065185546875}, {'val_loss': 2819.051513671875}, {'val_loss': 2819.025390625}, {'val_loss': 2819.032958984375}, {'val_loss': 2818.998291015625}, {'val_loss': 2818.982421875}, {'val_loss': 2818.988525390625}, {'val_loss': 2818.987548828125}, {'val_loss': 2818.961181640625}, {'val_loss': 2818.963134765625}, {'val_loss': 2818.949462890625}, {'val_loss': 2818.9560546875}, {'val_loss': 2818.955810546875}, {'val_loss': 2818.943115234375}, {'val_loss': 2818.940185546875}, {'val_loss': 2818.955322265625}, {'val_loss': 2818.970947265625}, {'val_loss': 2818.942138671875}, {'val_loss': 2818.9462890625}, {'val_loss': 2818.942626953125}, {'val_loss': 2818.966064453125}, {'val_loss': 2818.959716796875}, {'val_loss': 2818.981201171875}, {'val_loss': 2818.998779296875}, {'val_loss': 2818.98828125}, {'val_loss': 2818.970703125}, {'val_loss': 2818.975341796875}, {'val_loss': 2818.992919921875}, {'val_loss': 2818.977783203125}, {'val_loss': 2818.970703125}, {'val_loss': 2818.958251953125}, {'val_loss': 2818.966796875}, {'val_loss': 2818.9765625}, {'val_loss': 2818.967041015625}, {'val_loss': 2818.9560546875}, {'val_loss': 2818.965087890625}, {'val_loss': 2818.9541015625}, {'val_loss': 2818.940185546875}, {'val_loss': 2818.944580078125}, {'val_loss': 2818.928466796875}, {'val_loss': 2818.918212890625}, {'val_loss': 2818.907958984375}, {'val_loss': 2818.896728515625}, {'val_loss': 2818.861328125}, {'val_loss': 2818.847900390625}, {'val_loss': 2818.825439453125}, {'val_loss': 2818.833251953125}, {'val_loss': 2818.8232421875}, {'val_loss': 2818.819580078125}, {'val_loss': 2818.806884765625}, {'val_loss': 2818.782470703125}, {'val_loss': 2818.785888671875}, {'val_loss': 2818.806884765625}, {'val_loss': 2818.875732421875}, {'val_loss': 2818.856201171875}, {'val_loss': 2818.8447265625}, {'val_loss': 2818.896484375}, {'val_loss': 2818.899169921875}, {'val_loss': 2818.899169921875}, {'val_loss': 2818.874267578125}, {'val_loss': 2818.883544921875}, {'val_loss': 2818.873046875}, {'val_loss': 2818.870849609375}, {'val_loss': 2818.876708984375}, {'val_loss': 2818.875732421875}, {'val_loss': 2818.8623046875}, {'val_loss': 2818.923828125}, {'val_loss': 2818.947265625}, {'val_loss': 2818.934326171875}, {'val_loss': 2818.924072265625}, {'val_loss': 2818.920654296875}, {'val_loss': 2818.894775390625}, {'val_loss': 2818.893310546875}, {'val_loss': 2818.867919921875}, {'val_loss': 2818.8564453125}, {'val_loss': 2818.853515625}, {'val_loss': 2818.8427734375}, {'val_loss': 2818.823974609375}, {'val_loss': 2818.843505859375}, {'val_loss': 2818.8330078125}, {'val_loss': 2818.823974609375}, {'val_loss': 2818.8212890625}, {'val_loss': 2818.8046875}, {'val_loss': 2818.792724609375}, {'val_loss': 2818.805419921875}, {'val_loss': 2818.840087890625}, {'val_loss': 2818.823974609375}, {'val_loss': 2818.841064453125}, {'val_loss': 2818.852783203125}, {'val_loss': 2818.8388671875}, {'val_loss': 2818.825927734375}, {'val_loss': 2818.80078125}, {'val_loss': 2818.792236328125}, {'val_loss': 2818.810791015625}, {'val_loss': 2818.8017578125}, {'val_loss': 2818.816650390625}, {'val_loss': 2818.798583984375}, {'val_loss': 2818.78515625}, {'val_loss': 2818.8125}, {'val_loss': 2818.814453125}, {'val_loss': 2818.801025390625}, {'val_loss': 2818.774169921875}, {'val_loss': 2818.749267578125}, {'val_loss': 2818.744140625}, {'val_loss': 2818.718017578125}, {'val_loss': 2818.77734375}, {'val_loss': 2818.750732421875}, {'val_loss': 2818.760986328125}, {'val_loss': 2818.73046875}, {'val_loss': 2818.707275390625}, {'val_loss': 2818.709228515625}, {'val_loss': 2818.739501953125}, {'val_loss': 2818.738525390625}, {'val_loss': 2818.725830078125}, {'val_loss': 2818.72265625}, {'val_loss': 2818.731201171875}, {'val_loss': 2818.712646484375}, {'val_loss': 2818.716796875}, {'val_loss': 2818.693603515625}, {'val_loss': 2818.716064453125}, {'val_loss': 2818.736572265625}, {'val_loss': 2818.716064453125}, {'val_loss': 2818.708984375}, {'val_loss': 2818.7099609375}, {'val_loss': 2818.688720703125}, {'val_loss': 2818.692626953125}, {'val_loss': 2818.6689453125}, {'val_loss': 2818.642578125}, {'val_loss': 2818.634521484375}, {'val_loss': 2818.616943359375}, {'val_loss': 2818.656494140625}, {'val_loss': 2818.657958984375}, {'val_loss': 2818.686279296875}, {'val_loss': 2818.687255859375}, {'val_loss': 2818.6669921875}, {'val_loss': 2818.6748046875}, {'val_loss': 2818.657470703125}, {'val_loss': 2818.657470703125}, {'val_loss': 2818.654052734375}, {'val_loss': 2818.637451171875}, {'val_loss': 2818.6728515625}, {'val_loss': 2818.656982421875}, {'val_loss': 2818.660888671875}, {'val_loss': 2818.667724609375}, {'val_loss': 2818.662109375}, {'val_loss': 2818.658935546875}, {'val_loss': 2818.6171875}, {'val_loss': 2818.644775390625}, {'val_loss': 2818.664794921875}, {'val_loss': 2818.688720703125}, {'val_loss': 2818.694091796875}, {'val_loss': 2818.716552734375}, {'val_loss': 2818.692626953125}, {'val_loss': 2818.6904296875}, {'val_loss': 2818.684326171875}, {'val_loss': 2818.683837890625}, {'val_loss': 2818.671875}, {'val_loss': 2818.654541015625}, {'val_loss': 2818.628662109375}, {'val_loss': 2818.618408203125}, {'val_loss': 2818.6103515625}, {'val_loss': 2818.610107421875}, {'val_loss': 2818.646728515625}, {'val_loss': 2818.666748046875}, {'val_loss': 2818.671875}, {'val_loss': 2818.651611328125}, {'val_loss': 2818.625}, {'val_loss': 2818.6181640625}, {'val_loss': 2818.609130859375}, {'val_loss': 2818.603759765625}, {'val_loss': 2818.5908203125}, {'val_loss': 2818.595703125}, {'val_loss': 2818.5751953125}, {'val_loss': 2818.580322265625}, {'val_loss': 2818.560546875}, {'val_loss': 2818.5712890625}, {'val_loss': 2818.567138671875}, {'val_loss': 2818.558349609375}, {'val_loss': 2818.556884765625}, {'val_loss': 2818.5634765625}, {'val_loss': 2818.565185546875}, {'val_loss': 2818.568115234375}, {'val_loss': 2818.57421875}, {'val_loss': 2818.580322265625}, {'val_loss': 2818.552001953125}, {'val_loss': 2818.5869140625}, {'val_loss': 2818.571533203125}, {'val_loss': 2818.593017578125}, {'val_loss': 2818.585693359375}, {'val_loss': 2818.5888671875}, {'val_loss': 2818.559326171875}, {'val_loss': 2818.532958984375}, {'val_loss': 2818.541748046875}, {'val_loss': 2818.5283203125}, {'val_loss': 2818.509033203125}, {'val_loss': 2818.501708984375}, {'val_loss': 2818.509765625}, {'val_loss': 2818.516845703125}, {'val_loss': 2818.524658203125}, {'val_loss': 2818.560791015625}, {'val_loss': 2818.54296875}, {'val_loss': 2818.5380859375}, {'val_loss': 2818.544677734375}, {'val_loss': 2818.536376953125}, {'val_loss': 2818.576904296875}, {'val_loss': 2818.567138671875}, {'val_loss': 2818.565673828125}, {'val_loss': 2818.5537109375}, {'val_loss': 2818.581787109375}, {'val_loss': 2818.567138671875}, {'val_loss': 2818.5625}, {'val_loss': 2818.576171875}, {'val_loss': 2818.555419921875}, {'val_loss': 2818.551025390625}, {'val_loss': 2818.5478515625}, {'val_loss': 2818.5302734375}, {'val_loss': 2818.504638671875}, {'val_loss': 2818.4931640625}, {'val_loss': 2818.4677734375}, {'val_loss': 2818.4443359375}, {'val_loss': 2818.4072265625}, {'val_loss': 2818.3896484375}, {'val_loss': 2818.4287109375}, {'val_loss': 2818.460693359375}, {'val_loss': 2818.451416015625}, {'val_loss': 2818.4521484375}, {'val_loss': 2818.451904296875}, {'val_loss': 2818.453369140625}, {'val_loss': 2818.454345703125}, {'val_loss': 2818.455078125}, {'val_loss': 2818.4560546875}, {'val_loss': 2818.456298828125}, {'val_loss': 2818.453857421875}, {'val_loss': 2818.452392578125}, {'val_loss': 2818.451904296875}, {'val_loss': 2818.451171875}, {'val_loss': 2818.4501953125}, {'val_loss': 2818.4482421875}, {'val_loss': 2818.447265625}, {'val_loss': 2818.447265625}, {'val_loss': 2818.4482421875}, {'val_loss': 2818.447998046875}, {'val_loss': 2818.448486328125}, {'val_loss': 2818.44921875}, {'val_loss': 2818.451416015625}, {'val_loss': 2818.450439453125}, {'val_loss': 2818.451171875}, {'val_loss': 2818.451416015625}, {'val_loss': 2818.449951171875}, {'val_loss': 2818.44921875}, {'val_loss': 2818.448486328125}, {'val_loss': 2818.450439453125}, {'val_loss': 2818.450439453125}, {'val_loss': 2818.44921875}, {'val_loss': 2818.4501953125}, {'val_loss': 2818.450927734375}, {'val_loss': 2818.453857421875}, {'val_loss': 2818.451904296875}, {'val_loss': 2818.450439453125}, {'val_loss': 2818.450927734375}, {'val_loss': 2818.452392578125}, {'val_loss': 2818.451904296875}, {'val_loss': 2818.452392578125}, {'val_loss': 2818.451171875}, {'val_loss': 2818.449951171875}, {'val_loss': 2818.448486328125}, {'val_loss': 2818.447265625}, {'val_loss': 2818.446044921875}, {'val_loss': 2818.446044921875}, {'val_loss': 2818.448974609375}, {'val_loss': 2818.447265625}, {'val_loss': 2818.447509765625}, {'val_loss': 2818.4453125}, {'val_loss': 2818.4453125}, {'val_loss': 2818.446533203125}, {'val_loss': 2818.4462890625}, {'val_loss': 2818.446044921875}, {'val_loss': 2818.447021484375}, {'val_loss': 2818.4443359375}, {'val_loss': 2818.444580078125}, {'val_loss': 2818.445068359375}, {'val_loss': 2818.444091796875}, {'val_loss': 2818.44140625}, {'val_loss': 2818.4404296875}, {'val_loss': 2818.44140625}, {'val_loss': 2818.437744140625}, {'val_loss': 2818.438720703125}, {'val_loss': 2818.438720703125}, {'val_loss': 2818.438720703125}, {'val_loss': 2818.439208984375}, {'val_loss': 2818.4404296875}, {'val_loss': 2818.4404296875}, {'val_loss': 2818.440185546875}, {'val_loss': 2818.4365234375}, {'val_loss': 2818.438720703125}, {'val_loss': 2818.4375}, {'val_loss': 2818.437744140625}, {'val_loss': 2818.438720703125}, {'val_loss': 2818.437744140625}, {'val_loss': 2818.4375}, {'val_loss': 2818.436279296875}, {'val_loss': 2818.438232421875}, {'val_loss': 2818.439697265625}, {'val_loss': 2818.4404296875}, {'val_loss': 2818.438720703125}, {'val_loss': 2818.4365234375}, {'val_loss': 2818.433837890625}, {'val_loss': 2818.435791015625}, {'val_loss': 2818.437744140625}, {'val_loss': 2818.437744140625}, {'val_loss': 2818.4384765625}, {'val_loss': 2818.439697265625}, {'val_loss': 2818.437744140625}, {'val_loss': 2818.433837890625}, {'val_loss': 2818.43359375}, {'val_loss': 2818.43359375}, {'val_loss': 2818.434814453125}, {'val_loss': 2818.433837890625}, {'val_loss': 2818.432861328125}, {'val_loss': 2818.433837890625}, {'val_loss': 2818.430908203125}, {'val_loss': 2818.432373046875}, {'val_loss': 2818.434326171875}, {'val_loss': 2818.435302734375}, {'val_loss': 2818.434326171875}, {'val_loss': 2818.435302734375}, {'val_loss': 2818.432861328125}, {'val_loss': 2818.4306640625}, {'val_loss': 2818.4306640625}, {'val_loss': 2818.432373046875}, {'val_loss': 2818.429931640625}, {'val_loss': 2818.430908203125}, {'val_loss': 2818.430908203125}, {'val_loss': 2818.430908203125}, {'val_loss': 2818.430419921875}, {'val_loss': 2818.4296875}, {'val_loss': 2818.431396484375}, {'val_loss': 2818.430908203125}, {'val_loss': 2818.429931640625}, {'val_loss': 2818.431396484375}, {'val_loss': 2818.4296875}, {'val_loss': 2818.4287109375}, {'val_loss': 2818.428466796875}, {'val_loss': 2818.428466796875}, {'val_loss': 2818.430419921875}, {'val_loss': 2818.430419921875}, {'val_loss': 2818.428466796875}, {'val_loss': 2818.4267578125}, {'val_loss': 2818.4248046875}, {'val_loss': 2818.424560546875}, {'val_loss': 2818.422607421875}, {'val_loss': 2818.423095703125}, {'val_loss': 2818.421142578125}, {'val_loss': 2818.419677734375}, {'val_loss': 2818.417236328125}, {'val_loss': 2818.420166015625}, {'val_loss': 2818.421630859375}, {'val_loss': 2818.423095703125}, {'val_loss': 2818.422607421875}, {'val_loss': 2818.423095703125}, {'val_loss': 2818.421875}, {'val_loss': 2818.419189453125}, {'val_loss': 2818.420654296875}, {'val_loss': 2818.419677734375}, {'val_loss': 2818.416748046875}, {'val_loss': 2818.417236328125}, {'val_loss': 2818.416259765625}, {'val_loss': 2818.416015625}, {'val_loss': 2818.4150390625}, {'val_loss': 2818.416259765625}, {'val_loss': 2818.4169921875}, {'val_loss': 2818.4169921875}, {'val_loss': 2818.418212890625}, {'val_loss': 2818.415771484375}, {'val_loss': 2818.4150390625}, {'val_loss': 2818.414306640625}, {'val_loss': 2818.414306640625}, {'val_loss': 2818.415771484375}, {'val_loss': 2818.416015625}, {'val_loss': 2818.418701171875}, {'val_loss': 2818.4189453125}, {'val_loss': 2818.420654296875}, {'val_loss': 2818.422119140625}, {'val_loss': 2818.423828125}, {'val_loss': 2818.423095703125}, {'val_loss': 2818.420166015625}, {'val_loss': 2818.418701171875}, {'val_loss': 2818.416015625}, {'val_loss': 2818.417236328125}, {'val_loss': 2818.416748046875}, {'val_loss': 2818.417724609375}, {'val_loss': 2818.4189453125}, {'val_loss': 2818.420654296875}, {'val_loss': 2818.419677734375}, {'val_loss': 2818.418212890625}, {'val_loss': 2818.417236328125}, {'val_loss': 2818.417236328125}, {'val_loss': 2818.414306640625}, {'val_loss': 2818.4140625}, {'val_loss': 2818.412109375}, {'val_loss': 2818.4130859375}, {'val_loss': 2818.415283203125}, {'val_loss': 2818.414306640625}, {'val_loss': 2818.412841796875}, {'val_loss': 2818.4150390625}, {'val_loss': 2818.4150390625}, {'val_loss': 2818.412353515625}, {'val_loss': 2818.415283203125}, {'val_loss': 2818.4140625}, {'val_loss': 2818.4130859375}, {'val_loss': 2818.4111328125}, {'val_loss': 2818.4091796875}, {'val_loss': 2818.407958984375}, {'val_loss': 2818.408935546875}, {'val_loss': 2818.408447265625}, {'val_loss': 2818.408935546875}, {'val_loss': 2818.406982421875}, {'val_loss': 2818.406494140625}, {'val_loss': 2818.405029296875}, {'val_loss': 2818.405517578125}, {'val_loss': 2818.404296875}, {'val_loss': 2818.404296875}, {'val_loss': 2818.403564453125}, {'val_loss': 2818.4052734375}, {'val_loss': 2818.405029296875}, {'val_loss': 2818.405029296875}, {'val_loss': 2818.4052734375}, {'val_loss': 2818.4052734375}, {'val_loss': 2818.405029296875}, {'val_loss': 2818.4052734375}, {'val_loss': 2818.4052734375}, {'val_loss': 2818.405029296875}, {'val_loss': 2818.4052734375}, {'val_loss': 2818.405029296875}, {'val_loss': 2818.405029296875}, {'val_loss': 2818.404541015625}, {'val_loss': 2818.4052734375}, {'val_loss': 2818.405029296875}, {'val_loss': 2818.404541015625}, {'val_loss': 2818.404541015625}, {'val_loss': 2818.404541015625}, {'val_loss': 2818.404541015625}, {'val_loss': 2818.404541015625}, {'val_loss': 2818.405029296875}, {'val_loss': 2818.404541015625}, {'val_loss': 2818.405029296875}, {'val_loss': 2818.405029296875}, {'val_loss': 2818.4052734375}, {'val_loss': 2818.405029296875}, {'val_loss': 2818.405029296875}, {'val_loss': 2818.405029296875}, {'val_loss': 2818.404541015625}, {'val_loss': 2818.404541015625}, {'val_loss': 2818.405029296875}, {'val_loss': 2818.405029296875}, {'val_loss': 2818.4052734375}, {'val_loss': 2818.405029296875}, {'val_loss': 2818.4052734375}, {'val_loss': 2818.4052734375}, {'val_loss': 2818.405029296875}, {'val_loss': 2818.405029296875}, {'val_loss': 2818.404541015625}, {'val_loss': 2818.405029296875}, {'val_loss': 2818.404541015625}, {'val_loss': 2818.405029296875}, {'val_loss': 2818.404541015625}, {'val_loss': 2818.404541015625}, {'val_loss': 2818.404541015625}, {'val_loss': 2818.404541015625}, {'val_loss': 2818.404541015625}, {'val_loss': 2818.404541015625}, {'val_loss': 2818.404296875}, {'val_loss': 2818.404296875}, {'val_loss': 2818.404052734375}, {'val_loss': 2818.404052734375}, {'val_loss': 2818.403564453125}, {'val_loss': 2818.404052734375}, {'val_loss': 2818.403564453125}, {'val_loss': 2818.403564453125}, {'val_loss': 2818.403564453125}, {'val_loss': 2818.404052734375}, {'val_loss': 2818.4033203125}, {'val_loss': 2818.4033203125}, {'val_loss': 2818.403564453125}, {'val_loss': 2818.403564453125}, {'val_loss': 2818.404052734375}, {'val_loss': 2818.404052734375}, {'val_loss': 2818.404296875}, {'val_loss': 2818.403564453125}, {'val_loss': 2818.403564453125}, {'val_loss': 2818.404052734375}, {'val_loss': 2818.404296875}, {'val_loss': 2818.404296875}, {'val_loss': 2818.404296875}, {'val_loss': 2818.404052734375}, {'val_loss': 2818.403564453125}, {'val_loss': 2818.404296875}, {'val_loss': 2818.404296875}, {'val_loss': 2818.404052734375}, {'val_loss': 2818.404296875}, {'val_loss': 2818.403564453125}, {'val_loss': 2818.403564453125}, {'val_loss': 2818.404296875}, {'val_loss': 2818.403564453125}, {'val_loss': 2818.403564453125}, {'val_loss': 2818.403564453125}, {'val_loss': 2818.403564453125}, {'val_loss': 2818.403076171875}, {'val_loss': 2818.4033203125}, {'val_loss': 2818.403564453125}, {'val_loss': 2818.403564453125}, {'val_loss': 2818.403564453125}, {'val_loss': 2818.403564453125}, {'val_loss': 2818.403564453125}, {'val_loss': 2818.403564453125}, {'val_loss': 2818.404052734375}, {'val_loss': 2818.403564453125}, {'val_loss': 2818.404052734375}, {'val_loss': 2818.403564453125}, {'val_loss': 2818.403564453125}, {'val_loss': 2818.403564453125}, {'val_loss': 2818.4033203125}, {'val_loss': 2818.4033203125}, {'val_loss': 2818.403564453125}, {'val_loss': 2818.403564453125}, {'val_loss': 2818.403564453125}, {'val_loss': 2818.403564453125}, {'val_loss': 2818.403564453125}, {'val_loss': 2818.403564453125}, {'val_loss': 2818.403564453125}, {'val_loss': 2818.403076171875}, {'val_loss': 2818.4033203125}, {'val_loss': 2818.403076171875}, {'val_loss': 2818.403076171875}, {'val_loss': 2818.4033203125}, {'val_loss': 2818.4033203125}, {'val_loss': 2818.403076171875}, {'val_loss': 2818.403564453125}, {'val_loss': 2818.4033203125}, {'val_loss': 2818.403564453125}, {'val_loss': 2818.403564453125}, {'val_loss': 2818.403564453125}, {'val_loss': 2818.4033203125}, {'val_loss': 2818.4033203125}, {'val_loss': 2818.403076171875}, {'val_loss': 2818.403076171875}, {'val_loss': 2818.4033203125}, {'val_loss': 2818.403564453125}, {'val_loss': 2818.403076171875}, {'val_loss': 2818.403564453125}, {'val_loss': 2818.404052734375}, {'val_loss': 2818.4033203125}, {'val_loss': 2818.4033203125}, {'val_loss': 2818.403564453125}, {'val_loss': 2818.4033203125}, {'val_loss': 2818.4033203125}, {'val_loss': 2818.4033203125}, {'val_loss': 2818.4033203125}, {'val_loss': 2818.403564453125}, {'val_loss': 2818.4033203125}, {'val_loss': 2818.4033203125}, {'val_loss': 2818.404052734375}, {'val_loss': 2818.403564453125}, {'val_loss': 2818.403564453125}, {'val_loss': 2818.404052734375}, {'val_loss': 2818.403564453125}, {'val_loss': 2818.4033203125}, {'val_loss': 2818.4033203125}, {'val_loss': 2818.403076171875}, {'val_loss': 2818.403076171875}, {'val_loss': 2818.403076171875}, {'val_loss': 2818.403076171875}, {'val_loss': 2818.40234375}, {'val_loss': 2818.403076171875}, {'val_loss': 2818.40234375}, {'val_loss': 2818.40234375}, {'val_loss': 2818.40234375}, {'val_loss': 2818.402587890625}, {'val_loss': 2818.403076171875}, {'val_loss': 2818.402587890625}, {'val_loss': 2818.40234375}, {'val_loss': 2818.402587890625}, {'val_loss': 2818.403076171875}, {'val_loss': 2818.402587890625}, {'val_loss': 2818.402587890625}, {'val_loss': 2818.40234375}, {'val_loss': 2818.40234375}, {'val_loss': 2818.40234375}, {'val_loss': 2818.40234375}, {'val_loss': 2818.40234375}, {'val_loss': 2818.402099609375}, {'val_loss': 2818.402099609375}, {'val_loss': 2818.401611328125}, {'val_loss': 2818.402099609375}, {'val_loss': 2818.402099609375}, {'val_loss': 2818.402099609375}, {'val_loss': 2818.402099609375}, {'val_loss': 2818.402099609375}, {'val_loss': 2818.402099609375}, {'val_loss': 2818.401611328125}, {'val_loss': 2818.402099609375}, {'val_loss': 2818.401611328125}, {'val_loss': 2818.4013671875}, {'val_loss': 2818.4013671875}, {'val_loss': 2818.4013671875}, {'val_loss': 2818.4013671875}, {'val_loss': 2818.401611328125}, {'val_loss': 2818.4013671875}, {'val_loss': 2818.401611328125}, {'val_loss': 2818.4013671875}, {'val_loss': 2818.4013671875}, {'val_loss': 2818.4013671875}, {'val_loss': 2818.4013671875}, {'val_loss': 2818.4013671875}, {'val_loss': 2818.4013671875}, {'val_loss': 2818.401123046875}, {'val_loss': 2818.401123046875}, {'val_loss': 2818.401123046875}, {'val_loss': 2818.401123046875}, {'val_loss': 2818.401123046875}, {'val_loss': 2818.401123046875}, {'val_loss': 2818.400634765625}, {'val_loss': 2818.401123046875}, {'val_loss': 2818.400634765625}, {'val_loss': 2818.400634765625}, {'val_loss': 2818.400634765625}, {'val_loss': 2818.400634765625}, {'val_loss': 2818.400634765625}, {'val_loss': 2818.401123046875}, {'val_loss': 2818.400634765625}, {'val_loss': 2818.400634765625}, {'val_loss': 2818.401123046875}, {'val_loss': 2818.401123046875}, {'val_loss': 2818.401123046875}, {'val_loss': 2818.400634765625}, {'val_loss': 2818.400634765625}, {'val_loss': 2818.400634765625}, {'val_loss': 2818.401123046875}, {'val_loss': 2818.400634765625}, {'val_loss': 2818.400634765625}, {'val_loss': 2818.401123046875}, {'val_loss': 2818.400634765625}, {'val_loss': 2818.400634765625}, {'val_loss': 2818.400634765625}, {'val_loss': 2818.401123046875}, {'val_loss': 2818.401123046875}, {'val_loss': 2818.400634765625}, {'val_loss': 2818.400634765625}, {'val_loss': 2818.401123046875}, {'val_loss': 2818.401123046875}, {'val_loss': 2818.401123046875}, {'val_loss': 2818.401123046875}, {'val_loss': 2818.401123046875}, {'val_loss': 2818.401123046875}, {'val_loss': 2818.401123046875}, {'val_loss': 2818.401123046875}, {'val_loss': 2818.401123046875}, {'val_loss': 2818.401123046875}, {'val_loss': 2818.401123046875}, {'val_loss': 2818.401123046875}, {'val_loss': 2818.401123046875}, {'val_loss': 2818.401123046875}, {'val_loss': 2818.401123046875}, {'val_loss': 2818.401123046875}, {'val_loss': 2818.401123046875}, {'val_loss': 2818.401123046875}, {'val_loss': 2818.401123046875}, {'val_loss': 2818.401123046875}, {'val_loss': 2818.4013671875}, {'val_loss': 2818.4013671875}, {'val_loss': 2818.401123046875}, {'val_loss': 2818.4013671875}, {'val_loss': 2818.401123046875}, {'val_loss': 2818.401123046875}, {'val_loss': 2818.401123046875}, {'val_loss': 2818.401123046875}, {'val_loss': 2818.401123046875}, {'val_loss': 2818.401123046875}, {'val_loss': 2818.401123046875}, {'val_loss': 2818.401123046875}, {'val_loss': 2818.401123046875}, {'val_loss': 2818.401123046875}, {'val_loss': 2818.401123046875}, {'val_loss': 2818.401123046875}, {'val_loss': 2818.4013671875}, {'val_loss': 2818.4013671875}, {'val_loss': 2818.4013671875}, {'val_loss': 2818.4013671875}, {'val_loss': 2818.4013671875}, {'val_loss': 2818.4013671875}, {'val_loss': 2818.401611328125}, {'val_loss': 2818.401611328125}, {'val_loss': 2818.4013671875}, {'val_loss': 2818.4013671875}, {'val_loss': 2818.401611328125}, {'val_loss': 2818.4013671875}, {'val_loss': 2818.4013671875}, {'val_loss': 2818.4013671875}, {'val_loss': 2818.401611328125}, {'val_loss': 2818.401611328125}, {'val_loss': 2818.401611328125}, {'val_loss': 2818.4013671875}, {'val_loss': 2818.402099609375}, {'val_loss': 2818.402099609375}, {'val_loss': 2818.401611328125}, {'val_loss': 2818.402099609375}, {'val_loss': 2818.402099609375}, {'val_loss': 2818.401611328125}, {'val_loss': 2818.401611328125}, {'val_loss': 2818.402099609375}, {'val_loss': 2818.401611328125}, {'val_loss': 2818.401611328125}, {'val_loss': 2818.402099609375}, {'val_loss': 2818.402099609375}, {'val_loss': 2818.401611328125}, {'val_loss': 2818.401611328125}, {'val_loss': 2818.401611328125}, {'val_loss': 2818.401611328125}, {'val_loss': 2818.401611328125}, {'val_loss': 2818.401611328125}, {'val_loss': 2818.401611328125}, {'val_loss': 2818.4013671875}, {'val_loss': 2818.4013671875}, {'val_loss': 2818.401611328125}, {'val_loss': 2818.401611328125}, {'val_loss': 2818.401611328125}, {'val_loss': 2818.4013671875}, {'val_loss': 2818.401611328125}, {'val_loss': 2818.402099609375}, {'val_loss': 2818.402099609375}, {'val_loss': 2818.402099609375}, {'val_loss': 2818.401611328125}, {'val_loss': 2818.402099609375}, {'val_loss': 2818.401611328125}, {'val_loss': 2818.401611328125}, {'val_loss': 2818.402099609375}, {'val_loss': 2818.401611328125}, {'val_loss': 2818.402099609375}, {'val_loss': 2818.401611328125}, {'val_loss': 2818.402099609375}, {'val_loss': 2818.402099609375}, {'val_loss': 2818.402099609375}, {'val_loss': 2818.402099609375}, {'val_loss': 2818.402099609375}, {'val_loss': 2818.402099609375}, {'val_loss': 2818.402099609375}, {'val_loss': 2818.40234375}, {'val_loss': 2818.402099609375}, {'val_loss': 2818.40234375}, {'val_loss': 2818.40234375}, {'val_loss': 2818.40234375}, {'val_loss': 2818.40234375}, {'val_loss': 2818.402099609375}, {'val_loss': 2818.40234375}, {'val_loss': 2818.40234375}, {'val_loss': 2818.40234375}, {'val_loss': 2818.40234375}, {'val_loss': 2818.402099609375}, {'val_loss': 2818.402099609375}, {'val_loss': 2818.40234375}, {'val_loss': 2818.402099609375}, {'val_loss': 2818.402099609375}, {'val_loss': 2818.402099609375}, {'val_loss': 2818.402099609375}, {'val_loss': 2818.402099609375}, {'val_loss': 2818.402099609375}, {'val_loss': 2818.402099609375}, {'val_loss': 2818.402099609375}, {'val_loss': 2818.402099609375}, {'val_loss': 2818.402099609375}, {'val_loss': 2818.402099609375}, {'val_loss': 2818.402099609375}, {'val_loss': 2818.402099609375}, {'val_loss': 2818.402099609375}, {'val_loss': 2818.402099609375}, {'val_loss': 2818.402099609375}, {'val_loss': 2818.402099609375}, {'val_loss': 2818.402099609375}, {'val_loss': 2818.402099609375}, {'val_loss': 2818.402099609375}, {'val_loss': 2818.40234375}, {'val_loss': 2818.40234375}, {'val_loss': 2818.402099609375}, {'val_loss': 2818.40234375}, {'val_loss': 2818.40234375}, {'val_loss': 2818.40234375}, {'val_loss': 2818.40234375}, {'val_loss': 2818.402099609375}, {'val_loss': 2818.402099609375}, {'val_loss': 2818.40234375}, {'val_loss': 2818.402099609375}, {'val_loss': 2818.402099609375}, {'val_loss': 2818.40234375}, {'val_loss': 2818.402099609375}, {'val_loss': 2818.402099609375}, {'val_loss': 2818.402099609375}, {'val_loss': 2818.402099609375}, {'val_loss': 2818.402099609375}, {'val_loss': 2818.402099609375}, {'val_loss': 2818.402099609375}, {'val_loss': 2818.402099609375}, {'val_loss': 2818.402099609375}, {'val_loss': 2818.401611328125}, {'val_loss': 2818.402099609375}, {'val_loss': 2818.402099609375}, {'val_loss': 2818.401611328125}, {'val_loss': 2818.402099609375}, {'val_loss': 2818.402099609375}, {'val_loss': 2818.402099609375}, {'val_loss': 2818.402099609375}, {'val_loss': 2818.401611328125}, {'val_loss': 2818.401611328125}, {'val_loss': 2818.401611328125}, {'val_loss': 2818.401611328125}, {'val_loss': 2818.402099609375}, {'val_loss': 2818.402099609375}, {'val_loss': 2818.401611328125}, {'val_loss': 2818.401611328125}, {'val_loss': 2818.402099609375}, {'val_loss': 2818.401611328125}, {'val_loss': 2818.401611328125}, {'val_loss': 2818.401611328125}, {'val_loss': 2818.402099609375}, {'val_loss': 2818.401611328125}, {'val_loss': 2818.401611328125}]\n"
     ]
    }
   ],
   "source": [
    "val_loss = [result] + history1 + history2 + history3 + history4 + history5\n",
    "print(val_loss)"
   ]
  },
  {
   "cell_type": "markdown",
   "metadata": {},
   "source": [
    "Let's log the final validation loss to Jovian and commit the notebook"
   ]
  },
  {
   "cell_type": "code",
   "execution_count": 46,
   "metadata": {},
   "outputs": [
    {
     "name": "stdout",
     "output_type": "stream",
     "text": [
      "[jovian] Metrics logged.\u001b[0m\n"
     ]
    }
   ],
   "source": [
    "jovian.log_metrics(val_loss=val_loss)"
   ]
  },
  {
   "cell_type": "code",
   "execution_count": 47,
   "metadata": {},
   "outputs": [
    {
     "data": {
      "application/javascript": [
       "window.require && require([\"base/js/namespace\"],function(Jupyter){Jupyter.notebook.save_checkpoint()})"
      ],
      "text/plain": [
       "<IPython.core.display.Javascript object>"
      ]
     },
     "metadata": {},
     "output_type": "display_data"
    },
    {
     "name": "stdout",
     "output_type": "stream",
     "text": [
      "[jovian] Attempting to save notebook..\u001b[0m\n",
      "[jovian] Updating notebook \"soham-a-shah/02-insurance-linear-regression\" on https://jovian.ml/\u001b[0m\n",
      "[jovian] Uploading notebook..\u001b[0m\n",
      "[jovian] Attaching records (metrics, hyperparameters, dataset etc.)\u001b[0m\n",
      "[jovian] Committed successfully! https://jovian.ml/soham-a-shah/02-insurance-linear-regression\u001b[0m\n"
     ]
    },
    {
     "data": {
      "text/plain": [
       "'https://jovian.ml/soham-a-shah/02-insurance-linear-regression'"
      ]
     },
     "execution_count": 47,
     "metadata": {},
     "output_type": "execute_result"
    }
   ],
   "source": [
    "jovian.commit(project=project_name, environment=None)"
   ]
  },
  {
   "cell_type": "markdown",
   "metadata": {},
   "source": [
    "Now scroll back up, re-initialize the model, and try different set of values for batch size, number of epochs, learning rate etc. Commit each experiment and use the \"Compare\" and \"View Diff\" options on Jovian to compare the different results."
   ]
  },
  {
   "cell_type": "markdown",
   "metadata": {},
   "source": [
    "## Step 5: Make predictions using the trained model\n",
    "\n",
    "**Q: Complete the following function definition to make predictions on a single input**"
   ]
  },
  {
   "cell_type": "code",
   "execution_count": 49,
   "metadata": {},
   "outputs": [],
   "source": [
    "def predict_single(input, target, model):\n",
    "    inputs = input.unsqueeze(0)\n",
    "    predictions = model(inputs)                # fill this\n",
    "    prediction = predictions[0].detach()\n",
    "    print(\"Input:\", input)\n",
    "    print(\"Target:\", target)\n",
    "    print(\"Prediction:\", prediction)"
   ]
  },
  {
   "cell_type": "code",
   "execution_count": 50,
   "metadata": {},
   "outputs": [
    {
     "name": "stdout",
     "output_type": "stream",
     "text": [
      "Input: tensor([44.0000,  0.0000, 26.8422,  1.0000,  0.0000,  2.0000])\n",
      "Target: tensor([3740.5232])\n",
      "Prediction: tensor([4184.9575])\n"
     ]
    }
   ],
   "source": [
    "input, target = val_ds[0]\n",
    "predict_single(input, target, model)"
   ]
  },
  {
   "cell_type": "code",
   "execution_count": 51,
   "metadata": {},
   "outputs": [
    {
     "name": "stdout",
     "output_type": "stream",
     "text": [
      "Input: tensor([19.0000,  0.0000, 23.7380,  5.0000,  0.0000,  3.0000])\n",
      "Target: tensor([2297.0205])\n",
      "Prediction: tensor([1499.9332])\n"
     ]
    }
   ],
   "source": [
    "input, target = val_ds[10]\n",
    "predict_single(input, target, model)"
   ]
  },
  {
   "cell_type": "code",
   "execution_count": 52,
   "metadata": {},
   "outputs": [
    {
     "name": "stdout",
     "output_type": "stream",
     "text": [
      "Input: tensor([50.0000,  0.0000, 22.7088,  0.0000,  0.0000,  0.0000])\n",
      "Target: tensor([12571.7217])\n",
      "Prediction: tensor([5152.3555])\n"
     ]
    }
   ],
   "source": [
    "input, target = val_ds[23]\n",
    "predict_single(input, target, model)"
   ]
  },
  {
   "cell_type": "markdown",
   "metadata": {},
   "source": [
    "Are you happy with your model's predictions? Try to improve them further."
   ]
  },
  {
   "cell_type": "markdown",
   "metadata": {},
   "source": [
    "## (Optional) Step 6: Try another dataset & blog about it\n",
    "\n",
    "While this last step is optional for the submission of your assignment, we highly recommend that you do it. Try to clean up & replicate this notebook (or [this one](https://jovian.ml/aakashns/housing-linear-minimal), or [this one](https://jovian.ml/aakashns/mnist-logistic-minimal) ) for a different linear regression or logistic regression problem. This will help solidify your understanding, and give you a chance to differentiate the generic patters in machine learning from problem-specific details.\n",
    "\n",
    "Here are some sources to find good datasets:\n",
    "\n",
    "- https://lionbridge.ai/datasets/10-open-datasets-for-linear-regression/\n",
    "- https://www.kaggle.com/rtatman/datasets-for-regression-analysis\n",
    "- https://archive.ics.uci.edu/ml/datasets.php?format=&task=reg&att=&area=&numAtt=&numIns=&type=&sort=nameUp&view=table\n",
    "- https://people.sc.fsu.edu/~jburkardt/datasets/regression/regression.html\n",
    "- https://archive.ics.uci.edu/ml/datasets/wine+quality\n",
    "- https://pytorch.org/docs/stable/torchvision/datasets.html\n",
    "\n",
    "We also recommend that you write a blog about your approach to the problem. Here is a suggested structure for your post (feel free to experiment with it):\n",
    "\n",
    "- Interesting title & subtitle\n",
    "- Overview of what the blog covers (which dataset, linear regression or logistic regression, intro to PyTorch)\n",
    "- Downloading & exploring the data\n",
    "- Preparing the data for training\n",
    "- Creating a model using PyTorch\n",
    "- Training the model to fit the data\n",
    "- Your thoughts on how to experiment with different hyperparmeters to reduce loss\n",
    "- Making predictions using the model\n",
    "\n",
    "As with the previous assignment, you can [embed Juptyer notebook cells & outputs from Jovian](https://medium.com/jovianml/share-and-embed-jupyter-notebooks-online-with-jovian-ml-df709a03064e) into your blog. \n",
    "\n",
    "Don't forget to share your work on the forum: https://jovian.ml/forum/t/share-your-work-here-assignment-2/4931"
   ]
  },
  {
   "cell_type": "code",
   "execution_count": null,
   "metadata": {},
   "outputs": [
    {
     "data": {
      "application/javascript": [
       "window.require && require([\"base/js/namespace\"],function(Jupyter){Jupyter.notebook.save_checkpoint()})"
      ],
      "text/plain": [
       "<IPython.core.display.Javascript object>"
      ]
     },
     "metadata": {},
     "output_type": "display_data"
    },
    {
     "name": "stdout",
     "output_type": "stream",
     "text": [
      "[jovian] Attempting to save notebook..\u001b[0m\n"
     ]
    }
   ],
   "source": [
    "jovian.commit(project=project_name, environment=None)\n",
    "jovian.commit(project=project_name, environment=None) # try again, kaggle fails sometimes"
   ]
  },
  {
   "cell_type": "code",
   "execution_count": null,
   "metadata": {},
   "outputs": [],
   "source": []
  }
 ],
 "metadata": {
  "kernelspec": {
   "display_name": "Python 3",
   "language": "python",
   "name": "python3"
  },
  "language_info": {
   "codemirror_mode": {
    "name": "ipython",
    "version": 3
   },
   "file_extension": ".py",
   "mimetype": "text/x-python",
   "name": "python",
   "nbconvert_exporter": "python",
   "pygments_lexer": "ipython3",
   "version": "3.6.4"
  }
 },
 "nbformat": 4,
 "nbformat_minor": 4
}
